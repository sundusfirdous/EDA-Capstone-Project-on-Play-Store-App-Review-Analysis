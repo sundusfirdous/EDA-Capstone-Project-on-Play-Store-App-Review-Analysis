{
  "nbformat": 4,
  "nbformat_minor": 0,
  "metadata": {
    "colab": {
      "private_outputs": true,
      "provenance": [],
      "collapsed_sections": [
        "H0kj-8xxnORC",
        "gIfDvo9L0UH2"
      ]
    },
    "kernelspec": {
      "name": "python3",
      "display_name": "Python 3"
    },
    "language_info": {
      "name": "python"
    }
  },
  "cells": [
    {
      "cell_type": "markdown",
      "source": [
        "<a href=\"https://colab.research.google.com/github/sundusfirdous/EDA-Capstone-Project-on-Play-Store-App-Review-Analysis/blob/main/Playstore_App_Review_analysis.ipynb\" target=\"_parent\"><img src=\"https://colab.research.google.com/assets/colab-badge.svg\" alt=\"Open In Colab\"/></a>"
      ],
      "metadata": {
        "id": "hiST3ZffuXDr"
      }
    },
    {
      "cell_type": "markdown",
      "source": [
        "#               **Play Store App Review Analysis**\n",
        "\n",
        "\n",
        "\n",
        "\n",
        "\n",
        "\n",
        "\n",
        "\n"
      ],
      "metadata": {
        "id": "XKJV2nNYN-Xy"
      }
    },
    {
      "cell_type": "markdown",
      "source": [
        "Certainly! Here's a more polished and professional version of your text:\n",
        "\n",
        "---\n",
        "\n",
        "### **Unlocking Insights from Google Play Store Data for App Development Success**\n",
        "\n",
        "The data obtained from Google Play Store applications holds significant potential to drive success in mobile app development. By analyzing this data, developers can uncover valuable insights that help them effectively engage users and navigate the competitive Android app market.\n",
        "\n",
        "### **Overview of the Datasets**\n",
        "\n",
        "This analysis utilizes two datasets:\n",
        "\n",
        "1. **App Metadata** – Contains essential information such as app category, price, genre, type, number of installs, number of reviews, and more.\n",
        "2. **User Reviews and Sentiment** – Includes translated user reviews along with sentiment labels, sentiment polarity, and sentiment subjectivity scores.\n",
        "\n",
        "### **Objective**\n",
        "\n",
        "The primary goal of this analysis is to explore and interpret the data to identify the key factors that influence user engagement and contribute to the overall success of apps on the Google Play Store.\n",
        "\n",
        "---\n",
        "\n",
        "Let me know if you want to format this for a presentation or report!\n"
      ],
      "metadata": {
        "id": "oyGEL8lhOBcR"
      }
    },
    {
      "cell_type": "markdown",
      "source": [
        "# **Project Name**    -\n",
        "\n"
      ],
      "metadata": {
        "id": "vncDsAP0Gaoa"
      }
    },
    {
      "cell_type": "markdown",
      "source": [
        "##### **Project Type**    - EDA/Regression/Classification/Unsupervised\n",
        "##### **Contribution**    - Individual\n",
        "##### **Team Member 1 -**\n",
        "##### **Team Member 2 -**\n",
        "##### **Team Member 3 -**\n",
        "##### **Team Member 4 -**"
      ],
      "metadata": {
        "id": "beRrZCGUAJYm"
      }
    },
    {
      "cell_type": "markdown",
      "source": [
        "# **Project Summary -**"
      ],
      "metadata": {
        "id": "FJNUwmbgGyua"
      }
    },
    {
      "cell_type": "markdown",
      "source": [
        "\n",
        "### **Exploratory Data Analysis of Google Play Store Applications**\n",
        "\n",
        "The data science workflow is typically structured around five key phases: capture, maintain, process, analyze, and communicate. In this project, we applied this methodology to perform an in-depth exploratory data analysis (EDA) of Google Play Store applications.\n",
        "\n",
        "With thousands of new mobile apps being launched daily on platforms like Google Play and an ever-growing global developer community, the competition for user attention is intense. The success of an app is often measured more by user engagement metrics—such as the number of installs and average ratings—than by revenue. In light of this, our primary objective was to identify trends and features that contribute to an app’s success and visibility, using insights drawn from EDA.\n",
        "\n",
        "---\n",
        "\n",
        "### **Data Preparation and Cleaning**\n",
        "\n",
        "The initial phase of the project focused heavily on data cleaning and preprocessing to ensure the accuracy and reliability of our analysis. One of the major challenges encountered was the presence of missing data:\n",
        "\n",
        "* **Ratings**: Approximately 13.6% of the data in the *Rating* column was missing. Despite attempts to merge with other datasets, we were unable to reliably impute these values and thus opted to remove them to preserve data integrity.\n",
        "* **User Reviews**: The *User Reviews* dataset contained around 42% missing values. Although sentiment analysis of reviews could have informed imputation strategies for the *Rating* column, the limited overlap between datasets restricted this approach.\n",
        "* **Merged Dataset**: After merging the Play Store data with user reviews, only 816 apps were found to be common—representing just 10% of the cleaned dataset. A higher overlap (ideally 70–80%) would have enhanced the depth and reliability of our analysis.\n",
        "\n",
        "---\n",
        "\n",
        "### **Exploratory Data Analysis (EDA)**\n",
        "\n",
        "With the cleaned dataset, we conducted various analyses to uncover patterns and insights:\n",
        "\n",
        "* **Categorical and Numerical Distributions**: We analyzed the frequency of categorical variables (e.g., genre, content rating) and the distribution of numerical variables (e.g., installs, reviews, rating).\n",
        "* **Correlations**: We explored correlations between key features, such as:\n",
        "\n",
        "  * *Category vs. Installs*\n",
        "  * *Rating vs. Reviews*\n",
        "  * *Sentiment Polarity vs. Subjectivity*\n",
        "\n",
        "---\n",
        "\n",
        "### **Key Findings**\n",
        "\n",
        "* **App Pricing**: Free apps dominate the Play Store and are significantly more preferred by users.\n",
        "* **App Size**: The majority of apps are relatively small in size. We found that app size does not significantly influence user behavior or success metrics.\n",
        "* **Ratings Distribution**: Most apps are rated between 4.0 and 5.0, indicating a generally positive user experience.\n",
        "* **Content Rating and Genre**: The most common content rating is \"Everyone,\" and \"Communication\" emerged as the most frequent app genre.\n",
        "* **Top Apps**: Based on install count and user reviews, **Facebook** emerged as the most popular app, closely followed by **WhatsApp**.\n",
        "\n",
        "---\n",
        "\n",
        "### **Sentiment Analysis Insights**\n",
        "\n",
        "* **Review Sentiment**: The majority of user reviews express positive sentiment. Negative and neutral sentiments constitute a smaller portion of the dataset.\n",
        "* **Polarity Range**: Most sentiment polarity scores fall within the range of \\[-0.50, 0.75], suggesting that extreme sentiments are rare.\n",
        "* **Subjectivity vs. Polarity**: While subjectivity and polarity are not always directly proportional, in cases of high or low variance, a linear relationship was observed.\n",
        "\n",
        "---\n",
        "\n",
        "### **Conclusion**\n",
        "\n",
        "This project successfully achieved its objective of identifying trends and key success factors for applications on the Google Play Store. Through extensive data cleaning, analysis, and visualization, we uncovered meaningful relationships between app characteristics and performance indicators. While data limitations constrained some aspects of our analysis, especially in terms of dataset overlap, the findings provide valuable guidance for developers seeking to optimize their app’s visibility and engagement on the platform.\n",
        "\n",
        "Future work could focus on expanding the dataset and incorporating additional features (e.g., user demographics, time-based trends) to further refine predictive models and recommendations.\n"
      ],
      "metadata": {
        "id": "F6v_1wHtG2nS"
      }
    },
    {
      "cell_type": "markdown",
      "source": [
        "# **GitHub Link -**"
      ],
      "metadata": {
        "id": "w6K7xa23Elo4"
      }
    },
    {
      "cell_type": "markdown",
      "source": [
        "Provide your GitHub Link here."
      ],
      "metadata": {
        "id": "h1o69JH3Eqqn"
      }
    },
    {
      "cell_type": "markdown",
      "source": [
        "# **Problem Statement**\n"
      ],
      "metadata": {
        "id": "yQaldy8SH6Dl"
      }
    },
    {
      "cell_type": "markdown",
      "source": [
        "#### **Define Your Business Objective?**"
      ],
      "metadata": {
        "id": "PH-0ReGfmX4f"
      }
    },
    {
      "cell_type": "markdown",
      "source": [
        "\n",
        "\n",
        "The Google Play Store stands as one of the leading digital app marketplaces globally, widely used by millions of users. As the mobile app ecosystem continues to expand, the demand for skilled developers is also on the rise. The Play Store offers users access to a vast array of applications across various categories, along with the ability to rate and review apps based on their personal experiences.\n",
        "\n",
        "To design and develop successful and engaging applications, it is essential for developers to understand user preferences and behavior. Key factors such as app size, pricing model, required Android version, and last update date can significantly influence user adoption and engagement.\n",
        "\n",
        "Additionally, understanding user sentiment towards similar existing apps provides valuable insights that can guide development decisions. Sentiment analysis of user reviews allows developers to anticipate user expectations and avoid common pitfalls.\n",
        "\n",
        "For this analysis, two datasets have been provided:\n",
        "\n",
        "1. **App Metadata** – containing general information about the apps available on the Play Store.\n",
        "2. **User Reviews and Sentiment** – comprising user-generated reviews and associated sentiment scores for individual apps.\n",
        "\n",
        "By thoroughly examining both datasets, we aim to identify the key factors that influence app performance, user engagement, and overall success in the competitive app market.\n"
      ],
      "metadata": {
        "id": "PhDvGCAqmjP1"
      }
    },
    {
      "cell_type": "markdown",
      "source": [
        "# **General Guidelines** : -  "
      ],
      "metadata": {
        "id": "mDgbUHAGgjLW"
      }
    },
    {
      "cell_type": "markdown",
      "source": [
        "1.   Well-structured, formatted, and commented code is required.\n",
        "2.   Exception Handling, Production Grade Code & Deployment Ready Code will be a plus. Those students will be awarded some additional credits.\n",
        "     \n",
        "     The additional credits will have advantages over other students during Star Student selection.\n",
        "       \n",
        "             [ Note: - Deployment Ready Code is defined as, the whole .ipynb notebook should be executable in one go\n",
        "                       without a single error logged. ]\n",
        "\n",
        "3.   Each and every logic should have proper comments.\n",
        "4. You may add as many number of charts you want. Make Sure for each and every chart the following format should be answered.\n",
        "        \n",
        "\n",
        "```\n",
        "# Chart visualization code\n",
        "```\n",
        "            \n",
        "\n",
        "*   Why did you pick the specific chart?\n",
        "*   What is/are the insight(s) found from the chart?\n",
        "* Will the gained insights help creating a positive business impact?\n",
        "Are there any insights that lead to negative growth? Justify with specific reason.\n",
        "\n",
        "5. You have to create at least 20 logical & meaningful charts having important insights.\n",
        "\n",
        "\n",
        "[ Hints : - Do the Vizualization in  a structured way while following \"UBM\" Rule.\n",
        "\n",
        "U - Univariate Analysis,\n",
        "\n",
        "B - Bivariate Analysis (Numerical - Categorical, Numerical - Numerical, Categorical - Categorical)\n",
        "\n",
        "M - Multivariate Analysis\n",
        " ]\n",
        "\n",
        "\n",
        "\n"
      ],
      "metadata": {
        "id": "ZrxVaUj-hHfC"
      }
    },
    {
      "cell_type": "markdown",
      "source": [
        "# ***Let's Begin !***"
      ],
      "metadata": {
        "id": "O_i_v8NEhb9l"
      }
    },
    {
      "cell_type": "markdown",
      "source": [
        "## ***1. Know Your Data***"
      ],
      "metadata": {
        "id": "HhfV-JJviCcP"
      }
    },
    {
      "cell_type": "markdown",
      "source": [
        "### Import Libraries"
      ],
      "metadata": {
        "id": "Y3lxredqlCYt"
      }
    },
    {
      "cell_type": "code",
      "source": [
        "# Import Libraries\n",
        "import pandas as pd\n",
        "import numpy as np\n",
        "import matplotlib.pyplot as plt\n",
        "import seaborn as sns\n",
        "import warnings\n",
        "warnings.filterwarnings('ignore')\n",
        "import missingno as msno\n",
        "%matplotlib inline"
      ],
      "metadata": {
        "id": "M8Vqi-pPk-HR"
      },
      "execution_count": null,
      "outputs": []
    },
    {
      "cell_type": "markdown",
      "source": [
        "### Dataset Loading"
      ],
      "metadata": {
        "id": "3RnN4peoiCZX"
      }
    },
    {
      "cell_type": "code",
      "source": [
        "#import google drive\n",
        "from google.colab import drive\n",
        "drive.mount('/content/drive')"
      ],
      "metadata": {
        "id": "4CkvbW_SlZ_R"
      },
      "execution_count": null,
      "outputs": []
    },
    {
      "cell_type": "code",
      "source": [
        "# Load Dataset\n",
        "ps_data_path='/content/drive/MyDrive/AlmaBetter/Data Scientist/Capstone_Project/Play Store Data.csv'\n",
        "df_ps=pd.read_csv(ps_data_path)"
      ],
      "metadata": {
        "id": "-fGxAUmsPQfb"
      },
      "execution_count": null,
      "outputs": []
    },
    {
      "cell_type": "markdown",
      "source": [
        "### Dataset First View"
      ],
      "metadata": {
        "id": "x71ZqKXriCWQ"
      }
    },
    {
      "cell_type": "code",
      "source": [
        "#let's watch the first four row\n",
        "df_ps.head(4)"
      ],
      "metadata": {
        "id": "LWNFOSvLl09H"
      },
      "execution_count": null,
      "outputs": []
    },
    {
      "cell_type": "markdown",
      "source": [
        "### Dataset Rows & Columns count"
      ],
      "metadata": {
        "id": "7hBIi_osiCS2"
      }
    },
    {
      "cell_type": "code",
      "source": [
        "# Dataset Rows & Columns count\n",
        "df_ps.columns"
      ],
      "metadata": {
        "id": "Kllu7SJgmLij"
      },
      "execution_count": null,
      "outputs": []
    },
    {
      "cell_type": "code",
      "source": [
        "#find no of rows and columns in the dataset\n",
        "rows=df_ps.shape[0]\n",
        "column=df_ps.shape[1]\n",
        "print(f\"no of rows is {rows} and no of columns is {column}\")"
      ],
      "metadata": {
        "id": "yJbxSUQBPdID"
      },
      "execution_count": null,
      "outputs": []
    },
    {
      "cell_type": "markdown",
      "source": [
        "### Dataset Information"
      ],
      "metadata": {
        "id": "JlHwYmJAmNHm"
      }
    },
    {
      "cell_type": "code",
      "source": [
        "# Dataset concise summary\n",
        "df_ps.info()"
      ],
      "metadata": {
        "id": "e9hRXRi6meOf"
      },
      "execution_count": null,
      "outputs": []
    },
    {
      "cell_type": "markdown",
      "source": [
        "### **Initial Observations from the Dataset**\n",
        "\n",
        "Based on our preliminary examination of the dataset, two key observations emerge:\n",
        "\n",
        "1. **Data Composition**: Out of the 13 available columns, only one contains numerical values, while the remaining columns consist of categorical data. This indicates a need for appropriate encoding and handling of categorical variables during the analysis.\n",
        "\n",
        "2. **Missing Values**: The dataset contains some missing (null) values. A detailed inspection will be conducted to assess the extent and distribution of these nulls, which will inform our data cleaning and preprocessing strategies."
      ],
      "metadata": {
        "id": "vMFxWf6jPzEY"
      }
    },
    {
      "cell_type": "markdown",
      "source": [
        "#### Duplicate Values"
      ],
      "metadata": {
        "id": "35m5QtbWiB9F"
      }
    },
    {
      "cell_type": "code",
      "source": [
        "# find the duplicate dataframe according to the app column\n",
        "duplicate=df_ps[df_ps.duplicated(subset='App')]\n",
        "duplicate.head(4)"
      ],
      "metadata": {
        "id": "1sLdpKYkmox0"
      },
      "execution_count": null,
      "outputs": []
    },
    {
      "cell_type": "code",
      "source": [
        "#find the count of the duplicate data in the dataset\n",
        "rows_duplicate=duplicate.shape[0]\n",
        "print(f\"no of duplicate data is {rows_duplicate} is the dataset\")"
      ],
      "metadata": {
        "id": "quGMSuQ7QQ_q"
      },
      "execution_count": null,
      "outputs": []
    },
    {
      "cell_type": "markdown",
      "source": [
        "#### Missing Values/Null Values"
      ],
      "metadata": {
        "id": "PoPl-ycgm1ru"
      }
    },
    {
      "cell_type": "code",
      "source": [
        "# Missing Values/Null Values Count\n",
        "df_ps.isna().sum()"
      ],
      "metadata": {
        "id": "GgHWkxvamxVg"
      },
      "execution_count": null,
      "outputs": []
    },
    {
      "cell_type": "markdown",
      "source": [
        "\n",
        "### **Missing Data Overview**\n",
        "\n",
        "Upon reviewing the dataset, it appears that only five columns contain missing values:\n",
        "\n",
        "1. **Rating** – Represents the average user rating for each app. Missing values here may impact analysis related to user satisfaction.\n",
        "2. **Current Ver** – Indicates the current version of the app. Missing data could hinder insights about app maintenance or updates.\n",
        "3. **Android Ver** – Specifies the minimum Android version required to run the app. Null values may affect compatibility analysis.\n",
        "4. **Type** – Defines whether the app is *Free* or *Paid*. Missing entries in this column could skew pricing-related insights.\n",
        "5. **Content Rating** – Reflects the age-appropriateness of the app (e.g., Everyone, Teen). Missing values may interfere with audience segmentation.\n",
        "\n",
        "These columns will be carefully examined during the data cleaning process to determine the best approach for handling their missing values—whether through imputation, removal, or other techniques.\n"
      ],
      "metadata": {
        "id": "4ihLq4nWQoWv"
      }
    },
    {
      "cell_type": "code",
      "source": [
        "# Visualizing the missing values\n",
        "msno.matrix(df_ps)"
      ],
      "metadata": {
        "id": "3q5wnI3om9sJ"
      },
      "execution_count": null,
      "outputs": []
    },
    {
      "cell_type": "markdown",
      "source": [
        "Here's a more polished and professional version of your statement:\n",
        "\n",
        "---\n",
        "\n",
        "### **Visual Analysis of Missing Data**\n",
        "\n",
        "From the matrix plot visualization, we can draw the following observations regarding the distribution of missing values:\n",
        "\n",
        "* **Rating**: The missing values in the *Rating* column are dispersed throughout the dataset, indicating that they occur randomly across different app entries.\n",
        "* **Current Ver**: The missing values in the *Current Ver* column are concentrated toward the end of the dataset. This could suggest issues with more recently added or less frequently updated apps.\n",
        "* **Other Columns** (*Android Ver*, *Type*, *Content Rating*): The missing values in these columns are less visually prominent in the matrix plot, likely due to their relatively smaller number. However, they are still present and will need to be addressed during data preprocessing.\n",
        "\n",
        "This visual inspection reinforces the importance of applying appropriate missing data handling techniques tailored to the distribution and significance of each column.\n"
      ],
      "metadata": {
        "id": "RgUxesnXQ7A6"
      }
    },
    {
      "cell_type": "markdown",
      "source": [
        "### What did you know about your dataset?"
      ],
      "metadata": {
        "id": "H0kj-8xxnORC"
      }
    },
    {
      "cell_type": "markdown",
      "source": [
        "### **Understanding the Dataset: Column Descriptions**\n",
        "\n",
        "The `play_store` DataFrame consists of **10,841 rows** and **13 columns**, each representing specific attributes of mobile applications available on the Google Play Store. Below is a detailed description of each column based on our inspection:\n",
        "\n",
        "1. **App**\n",
        "   Represents the **name of the application**.\n",
        "\n",
        "2. **Category**\n",
        "   Indicates the **primary category** to which the app belongs, such as *Education*, *Sports*, *Games*, etc.\n",
        "\n",
        "3. **Rating**\n",
        "   Contains the **average user rating** for the app, reflecting overall user satisfaction.\n",
        "\n",
        "4. **Reviews**\n",
        "   Shows the **total number of user reviews** submitted for the application.\n",
        "\n",
        "5. **Size**\n",
        "   Specifies the **storage size** of the app, indicating how much space it occupies on a user's device.\n",
        "\n",
        "6. **Installs**\n",
        "   Represents the **total number of downloads or installations** of the app.\n",
        "\n",
        "7. **Type**\n",
        "   States whether the app is **Free** or **Paid**.\n",
        "\n",
        "8. **Price**\n",
        "   Denotes the **cost to install** the app. For free apps, the value is zero.\n",
        "\n",
        "9. **Content Rating**\n",
        "   Indicates the **age suitability** of the app (e.g., *Everyone*, *Teen*, *Mature 17+*).\n",
        "\n",
        "10. **Genres**\n",
        "    Lists **additional categories or genres** associated with the app beyond the main category.\n",
        "\n",
        "11. **Last Updated**\n",
        "    Specifies the **date on which the app was last updated**.\n",
        "\n",
        "12. **Current Ver**\n",
        "    Displays the **current version** of the app available on the Play Store.\n",
        "\n",
        "13. **Android Ver**\n",
        "    Indicates the **minimum Android OS version required** to run the app on a device.\n"
      ],
      "metadata": {
        "id": "gfoNAAC-nUe_"
      }
    },
    {
      "cell_type": "markdown",
      "source": [
        "## ***2. Understanding Your Variables***"
      ],
      "metadata": {
        "id": "nA9Y7ga8ng1Z"
      }
    },
    {
      "cell_type": "markdown",
      "source": [
        "### **Primary Key Identification**\n",
        "\n",
        "In this dataset, the **`App`** column serves as the **primary identifier**, as it contains the **name of each application**. Ideally, each app name should be **unique**, allowing it to act as a primary key for identifying and distinguishing individual records.\n",
        "\n",
        "However, to ensure data integrity, it's important to verify the uniqueness of this column and check for any duplicate entries, especially considering that some apps may appear more than once due to updates, different versions, or multiple entries in the dataset.\n"
      ],
      "metadata": {
        "id": "ocwd04T3SuHi"
      }
    },
    {
      "cell_type": "code",
      "source": [
        "# Dataset Columns\n",
        "df_ps.columns"
      ],
      "metadata": {
        "id": "j7xfkqrt5Ag5"
      },
      "execution_count": null,
      "outputs": []
    },
    {
      "cell_type": "code",
      "source": [
        "# Dataset Describe\n",
        "df_ps.describe()"
      ],
      "metadata": {
        "id": "DnOaZdaE5Q5t"
      },
      "execution_count": null,
      "outputs": []
    },
    {
      "cell_type": "markdown",
      "source": [
        "Only the rating column is numerical; the others contain categorical data."
      ],
      "metadata": {
        "id": "ZFwdGKaJTLIo"
      }
    },
    {
      "cell_type": "markdown",
      "source": [
        "### Variables Description"
      ],
      "metadata": {
        "id": "PBTbrJXOngz2"
      }
    },
    {
      "cell_type": "markdown",
      "source": [
        "In this dataset, only the **`Rating`** column contains **numerical values**, while all other columns are **categorical**.\n",
        "\n",
        "Upon inspection, we observed that the **maximum rating value is 19**, which is clearly **inappropriate**, as user ratings on the Google Play Store are typically **on a scale from 1.0 to 5.0**. The **minimum value**, however, is correctly recorded as **1.0**.\n",
        "\n",
        "The presence of such **outliers or corrupted values** in the `Rating` column compromises the **reliability of statistical summaries** and may skew any analysis derived from this field. Therefore, these anomalies must be addressed—either by removing or correcting the affected records—before conducting any meaningful statistical or predictive analysis."
      ],
      "metadata": {
        "id": "JnB_q31zTYMS"
      }
    },
    {
      "cell_type": "code",
      "source": [
        "#let's look at the number of corrupted data in the Rating column\n",
        "df_ps[(df_ps['Rating']>5.0) | (df_ps['Rating']<1.0)]"
      ],
      "metadata": {
        "id": "C-4wjGzoVDxE"
      },
      "execution_count": null,
      "outputs": []
    },
    {
      "cell_type": "markdown",
      "source": [
        "In the Rating column, there is only one corrupted value, and for the same app, there is also a null value for Content Rating. We can drop this row."
      ],
      "metadata": {
        "id": "SZAi1MpzVIVi"
      }
    },
    {
      "cell_type": "code",
      "source": [
        "#drop the row\n",
        "df_ps.drop(index=10472,inplace=True)\n",
        "df_ps.shape"
      ],
      "metadata": {
        "id": "ZFDjXAYnVMwu"
      },
      "execution_count": null,
      "outputs": []
    },
    {
      "cell_type": "code",
      "source": [
        "#statiscal description of the numerical column\n",
        "df_ps.describe()"
      ],
      "metadata": {
        "id": "enOlX8unVQPQ"
      },
      "execution_count": null,
      "outputs": []
    },
    {
      "cell_type": "markdown",
      "source": [
        "The maximum rating is between 4.0 and 4.5, and the average rating is around 4.2."
      ],
      "metadata": {
        "id": "nQQjLls9VVFF"
      }
    },
    {
      "cell_type": "markdown",
      "source": [
        "### Check Unique Values for each variable."
      ],
      "metadata": {
        "id": "u3PMJOP6ngxN"
      }
    },
    {
      "cell_type": "code",
      "source": [
        "# Check Unique Values for each variable.\n",
        "df_ps.nunique()"
      ],
      "metadata": {
        "id": "zms12Yq5n-jE"
      },
      "execution_count": null,
      "outputs": []
    },
    {
      "cell_type": "markdown",
      "source": [
        "### **Key Dataset Insights**\n",
        "\n",
        "* The dataset contains **9,659 unique apps**, with **`App`** serving as the primary identifier.\n",
        "* There are **33 distinct categories** (e.g., games,family,medical).\n",
        "* **App types** include **Free** and **Paid**.\n",
        "* **6 unique content ratings** are present (e.g., *Everyone*, *Teen*).\n",
        "* The dataset spans **118 different genres**.\n",
        "* Apps support **33 different Android versions**.\n"
      ],
      "metadata": {
        "id": "7JeFnhijV8_D"
      }
    },
    {
      "cell_type": "markdown",
      "source": [
        "## 3. ***Data Wrangling***"
      ],
      "metadata": {
        "id": "dauF4eBmngu3"
      }
    },
    {
      "cell_type": "markdown",
      "source": [
        "### Data Wrangling Code"
      ],
      "metadata": {
        "id": "j3zaaycjYNHO"
      }
    },
    {
      "cell_type": "markdown",
      "source": [
        "3.1 Drop the Duplicate value"
      ],
      "metadata": {
        "id": "rNkppEGQXZ_Z"
      }
    },
    {
      "cell_type": "code",
      "source": [
        "#drop the duplicate values based on app column\n",
        "df_ps.drop_duplicates(subset='App',keep='first',inplace=True)\n",
        "#check the no of rows in the dataset after dropping the dataset\n",
        "df_ps.shape\n"
      ],
      "metadata": {
        "id": "Nr713DB_XETz"
      },
      "execution_count": null,
      "outputs": []
    },
    {
      "cell_type": "markdown",
      "source": [
        "3.2 Dealing with the missing value"
      ],
      "metadata": {
        "id": "hyDvKyJGYd-w"
      }
    },
    {
      "cell_type": "code",
      "source": [
        "#let's understand the missing with more detailis.Here we gonna create a function which will tells us in detalis about missing data\n",
        "def missingdata_info(df):\n",
        "  '''\n",
        "  This function is helps to find the missing data in details\n",
        "  '''\n",
        "  missing_df=pd.DataFrame(index=df.columns)\n",
        "  missing_df['datatypes']=df.dtypes\n",
        "  missing_df['total no of value']=[len(df)]*len(missing_df)\n",
        "  missing_df['not null value']=df.count()\n",
        "  missing_df['null values']=df.isna().sum()\n",
        "  missing_df['percentage  of null value']=(missing_df['null values']/len(df))*100\n",
        "  ms_df=missing_df[missing_df['null values']>0]\n",
        "  return ms_df"
      ],
      "metadata": {
        "id": "z7FYZnqSYe_J"
      },
      "execution_count": null,
      "outputs": []
    },
    {
      "cell_type": "code",
      "source": [
        "#apply the funtion to dataframe for understand the missing value\n",
        "missingdata_info(df_ps)"
      ],
      "metadata": {
        "id": "90Hpj1IJYnRj"
      },
      "execution_count": null,
      "outputs": []
    },
    {
      "cell_type": "markdown",
      "source": [
        "**Missing Data Summary**\n",
        "\n",
        "* Approximately **15% of the values in the `Rating` column** are missing, accounting for around **1,463 entries**.\n",
        "* The remaining columns with missing values—**`Type`**, **`Content Rating`**, **`Current Ver`**, and **`Android Ver`**—have **less than 1%** missing data, making their impact relatively minimal.\n"
      ],
      "metadata": {
        "id": "IEySlv4eYt5T"
      }
    },
    {
      "cell_type": "markdown",
      "source": [
        "3.2.1 Dealing with Android Ver column"
      ],
      "metadata": {
        "id": "h4jrN4Z0ZDU5"
      }
    },
    {
      "cell_type": "code",
      "source": [
        "#check out the android ver missing rows\n",
        "df_ps[df_ps['Android Ver'].isnull()]"
      ],
      "metadata": {
        "id": "RWttUd3qY80-"
      },
      "execution_count": null,
      "outputs": []
    },
    {
      "cell_type": "code",
      "source": [
        "#finding the number of different value in Android Ver\n",
        "df_ps['Android Ver'].value_counts()"
      ],
      "metadata": {
        "id": "OFzwB7yEZMJk"
      },
      "execution_count": null,
      "outputs": []
    },
    {
      "cell_type": "markdown",
      "source": [
        " **Handling Missing Values in `Android Ver`**\n",
        "\n",
        "The `Android Ver` column contains a **broad range of unique values**, making it challenging to accurately impute missing entries. However, since there are **only 3 missing rows**, accounting for just **0.02%** of the dataset, it is both practical and justifiable to **remove these rows** without impacting the overall analysis.\n"
      ],
      "metadata": {
        "id": "rIWpZ2GEZZjq"
      }
    },
    {
      "cell_type": "code",
      "source": [
        "#drop the null value of the Android Ver column\n",
        "df_ps=df_ps[df_ps['Android Ver'].notnull()]\n",
        "#check the shape of the dataframe after dropping missing Android ver column\n",
        "df_ps.shape"
      ],
      "metadata": {
        "id": "SuFuRUK_ZQNf"
      },
      "execution_count": null,
      "outputs": []
    },
    {
      "cell_type": "markdown",
      "source": [
        "3.2.2 Dealing with Current Ver column"
      ],
      "metadata": {
        "id": "2XjdLCvIZIt_"
      }
    },
    {
      "cell_type": "code",
      "source": [
        "#check out the current ver missing rows\n",
        "df_ps[df_ps['Current Ver'].isnull()]"
      ],
      "metadata": {
        "id": "pxGPK334ZnOQ"
      },
      "execution_count": null,
      "outputs": []
    },
    {
      "cell_type": "code",
      "source": [
        "#finding the number of different value in Current Ver\n",
        "df_ps['Current Ver'].value_counts()"
      ],
      "metadata": {
        "id": "LKs8P1x4Ztie"
      },
      "execution_count": null,
      "outputs": []
    },
    {
      "cell_type": "markdown",
      "source": [
        "**Handling Missing Values in `Current Ver`**\n",
        "\n",
        "The `Current Ver` column contains a **large number of unique values**, with entries varying significantly between apps. This wide variability makes it difficult to accurately impute the missing data. However, since there are **only 8 missing values**, representing just **0.08%** of the dataset, it is reasonable to **remove these rows** to maintain data quality without affecting the analysis.\n"
      ],
      "metadata": {
        "id": "5EoLAWo5Z0ek"
      }
    },
    {
      "cell_type": "code",
      "source": [
        "#Dropping the missing current ver data\n",
        "df_ps=df_ps[df_ps['Current Ver'].notnull()]\n",
        "#check out the shape of the dataframe  after dropping current ver missing data\n",
        "df_ps.shape"
      ],
      "metadata": {
        "id": "rOVl1Ax_Z4oQ"
      },
      "execution_count": null,
      "outputs": []
    },
    {
      "cell_type": "markdown",
      "source": [
        "3.2.3 Dealing with type column"
      ],
      "metadata": {
        "id": "rcfObr8IZ_Kk"
      }
    },
    {
      "cell_type": "code",
      "source": [
        "#finding the null value in Type column\n",
        "df_ps[df_ps['Type'].isnull()]"
      ],
      "metadata": {
        "id": "sJZ0ScXFaBWT"
      },
      "execution_count": null,
      "outputs": []
    },
    {
      "cell_type": "code",
      "source": [
        "#find the type column data  spread\n",
        "df_ps['Type'].value_counts()"
      ],
      "metadata": {
        "id": "emrCT9oFaFxi"
      },
      "execution_count": null,
      "outputs": []
    },
    {
      "cell_type": "markdown",
      "source": [
        "**Handling Missing Values in `Type` Column**\n",
        "\n",
        "The `Type` column contains only **two unique values**: **Free** and **Paid**. By definition:\n",
        "\n",
        "* If an app is **Free**, its **Price** is `0`.\n",
        "* If an app is **Paid**, the **Price** is greater than `0`.\n",
        "\n",
        "For rows where the `Type` value is missing, we can **infer the type based on the Price**. Since all missing `Type` entries have a Price of `0`, we can confidently **replace the missing values with \"Free\"**.\n"
      ],
      "metadata": {
        "id": "TJKy_yc2aQMx"
      }
    },
    {
      "cell_type": "code",
      "source": [
        "#replace the Nan value of type column with free\n",
        "df_ps['Type'].fillna('Free',inplace=True)"
      ],
      "metadata": {
        "id": "bEoBi7UJaIze"
      },
      "execution_count": null,
      "outputs": []
    },
    {
      "cell_type": "markdown",
      "source": [
        "3.2.4 Dealing with the Rating column"
      ],
      "metadata": {
        "id": "1lhE-RdWadz7"
      }
    },
    {
      "cell_type": "code",
      "source": [
        "#find out the missing rating data or rating is 0 in the dataset\n",
        "df_ps[(df_ps['Rating'].isnull()) | (df_ps['Rating']==0)]"
      ],
      "metadata": {
        "id": "ZNKcVpslacw7"
      },
      "execution_count": null,
      "outputs": []
    },
    {
      "cell_type": "code",
      "source": [
        "#find out the rating rows whose value is more than 5\n",
        "df_ps[(df_ps['Rating']>5)]"
      ],
      "metadata": {
        "id": "OLO3rJDRal39"
      },
      "execution_count": null,
      "outputs": []
    },
    {
      "cell_type": "markdown",
      "source": [
        " **Handling Missing Values in `Rating` Column**\n",
        "\n",
        "The `Rating` column contains a **significant number of missing values**, making it impractical to drop the affected rows without losing valuable data. Since `Rating` is a **numerical feature**, we need to carefully examine its **distribution** to determine the most appropriate strategy for imputing missing values—such as using the **mean**, **median**, or **mode**, depending on whether the distribution is **normal or skewed**.\n"
      ],
      "metadata": {
        "id": "E7LXZdMFayK4"
      }
    },
    {
      "cell_type": "code",
      "source": [
        "#try to understand the distribution of the data with histplot and boxplot\n",
        "fig, ax = plt.subplots(2,1, figsize=(15,8))\n",
        "plt.grid()\n",
        "sns.histplot(df_ps['Rating'], color ='red', bins = 10,kde=True,ax=ax[0])\n",
        "sns.boxplot(x=df_ps['Rating'],data=df_ps,ax=ax[1])\n"
      ],
      "metadata": {
        "id": "iXMDmUAoa3wH"
      },
      "execution_count": null,
      "outputs": []
    },
    {
      "cell_type": "markdown",
      "source": [
        "**Distribution Analysis of `Rating`**\n",
        "\n",
        "Based on the distribution plot, the `Rating` column is **negatively skewed**, indicating that a higher number of apps have ratings closer to the upper end (e.g., 4 to 5), while a few outliers exist on the **lower end** of the scale.\n",
        "\n",
        "Due to this skewness, using the **mean** to impute missing values may not be appropriate, as it could be influenced by the **low-end outliers**. Instead, a more robust approach would be to use the **median**, which is less sensitive to extreme values and better represents the central tendency in a skewed distribution.\n"
      ],
      "metadata": {
        "id": "9ZnS8CH2bznX"
      }
    },
    {
      "cell_type": "code",
      "source": [
        "#find the mean,median and mode value of the rating column\n",
        "mean_value=round(df_ps[~df_ps['Rating'].isnull()].Rating.mean(),1)\n",
        "median_value=df_ps[~df_ps['Rating'].isnull()].Rating.median()\n",
        "mode_value=df_ps['Rating'].mode()\n",
        "print(f\"The mean value is {mean_value}, median value is {median_value} and mode value is {mode_value}\")"
      ],
      "metadata": {
        "id": "QCXpITmvb8i-"
      },
      "execution_count": null,
      "outputs": []
    },
    {
      "cell_type": "markdown",
      "source": [
        "**Imputation Strategy for `Rating` Column**\n",
        "\n",
        "After analyzing the distribution of the `Rating` column, we found that the **median and mode have the same value**. This consistency indicates a strong central tendency in the data.\n",
        "\n",
        "Given the **negative skew** and presence of **outliers**, replacing the missing values with the **median** is the most appropriate choice, as it is **robust to skewness and extreme values**.\n"
      ],
      "metadata": {
        "id": "DV2ckb81cH0e"
      }
    },
    {
      "cell_type": "code",
      "source": [
        "#replace the Nan value of Rating column with median value\n",
        "df_ps['Rating'].fillna(median_value,inplace=True)"
      ],
      "metadata": {
        "id": "crycUvrzcRb1"
      },
      "execution_count": null,
      "outputs": []
    },
    {
      "cell_type": "code",
      "source": [
        "#check once again if there is any null value\n",
        "df_ps.isnull().sum()"
      ],
      "metadata": {
        "id": "r_Ky4538cVdm"
      },
      "execution_count": null,
      "outputs": []
    },
    {
      "cell_type": "markdown",
      "source": [
        "3.3 Reshaping the data"
      ],
      "metadata": {
        "id": "oCMdgcXlcZb-"
      }
    },
    {
      "cell_type": "markdown",
      "source": [
        "**Data Type Conversion for Analysis**\n",
        "\n",
        "To ensure accurate analysis, the following data type conversions are necessary:\n",
        "\n",
        "* **`Reviews`**, **`Size`**, **`Price`**, and **`Installs`** should be converted to **numeric** types for statistical computation and modeling.\n",
        "* **`Last Updated`** should be converted to **datetime format** to facilitate time-based analysis.\n",
        "\n",
        "These conversions are essential to maintain data consistency and enable meaningful insights."
      ],
      "metadata": {
        "id": "qKtIRHcXcm-q"
      }
    },
    {
      "cell_type": "markdown",
      "source": [
        "3.3.1 Change the datatype of Review column"
      ],
      "metadata": {
        "id": "WVa2zcthctle"
      }
    },
    {
      "cell_type": "code",
      "source": [
        "#changing the review datatype from object to integer\n",
        "df_ps['Reviews']=df_ps['Reviews'].astype(int)\n",
        "#check the datatype of the column after change\n",
        "df_ps['Reviews'].dtype"
      ],
      "metadata": {
        "id": "aeBjWjtTcb2x"
      },
      "execution_count": null,
      "outputs": []
    },
    {
      "cell_type": "markdown",
      "source": [
        "3.3.2 Change the datatype of Size column"
      ],
      "metadata": {
        "id": "93bX9AlIc1TS"
      }
    },
    {
      "cell_type": "code",
      "source": [
        "#look at the format of the data of size column\n",
        "df_ps['Size'].unique()"
      ],
      "metadata": {
        "id": "dfMoOcBtdA7l"
      },
      "execution_count": null,
      "outputs": []
    },
    {
      "cell_type": "markdown",
      "source": [
        "**Here M denotes the size in MB (MegaByte) and k denotes kB (kiloByte). Before converting the data, the unit of the size should be unique, and 'k' and 'M' should be omitted.**"
      ],
      "metadata": {
        "id": "_4bfpOXEdPOd"
      }
    },
    {
      "cell_type": "code",
      "source": [
        "# create a function to convert the data into numerical and unit of MB\n",
        "def size_convert(app_size):\n",
        "  '''\n",
        "  This is the function to convert the size into kb to mb\n",
        "  '''\n",
        "  try:\n",
        "    if app_size[-1]=='M':\n",
        "      return float(app_size[:-1])\n",
        "    elif app_size[-1]=='k':\n",
        "      return round((float(app_size[:-1])/1024),2)\n",
        "    else:\n",
        "      return float(app_size)\n",
        "  except:\n",
        "    return app_size"
      ],
      "metadata": {
        "id": "-wQ7PbEqdW7b"
      },
      "execution_count": null,
      "outputs": []
    },
    {
      "cell_type": "code",
      "source": [
        "#convert the column as suggested\n",
        "df_ps['Size']=df_ps['Size'].apply(lambda size:size_convert(size))\n",
        "#check the datatype of the column after applying function on the column\n",
        "df_ps['Size'].dtype"
      ],
      "metadata": {
        "id": "z1lGyt9gdZ6w"
      },
      "execution_count": null,
      "outputs": []
    },
    {
      "cell_type": "markdown",
      "source": [
        "**datatype is still an object type because 'varies with device' size is present in the dataset. So it can't convert the entire column to numbers.**"
      ],
      "metadata": {
        "id": "xeP-jiWzdd5l"
      }
    },
    {
      "cell_type": "markdown",
      "source": [
        "3.3.3 Dealing with Installs columns\n",
        "\n",
        "\n",
        "\n",
        "\n"
      ],
      "metadata": {
        "id": "mt2uHkrYdhJC"
      }
    },
    {
      "cell_type": "code",
      "source": [
        "#look at the format of the column\n",
        "df_ps['Installs'].unique()"
      ],
      "metadata": {
        "id": "m-e6m5l6djLJ"
      },
      "execution_count": null,
      "outputs": []
    },
    {
      "cell_type": "markdown",
      "source": [
        "**In the Install column, there are '+' and ',' which need to be filtered before being converted to numeric.**"
      ],
      "metadata": {
        "id": "axMT9eIEdn_7"
      }
    },
    {
      "cell_type": "code",
      "source": [
        "#create a function to convert install coumn to numeric data\n",
        "def install_to_numeric(column_data):\n",
        "  '''\n",
        "  This function is omit the + and , in the data and turn into numeric\n",
        "  '''\n",
        "  if '+'and ',' in column_data:\n",
        "    data=int(column_data[:-1].replace(',',''))\n",
        "    return data\n",
        "  elif '+' in column_data:\n",
        "    data=int(column_data[:-1])\n",
        "    return data\n",
        "  elif ',' in column_data:\n",
        "    data=int(column_data.replace(',',''))\n",
        "    return data\n",
        "  else:\n",
        "    return int(column_data)"
      ],
      "metadata": {
        "id": "tGZ-AZfCdq7b"
      },
      "execution_count": null,
      "outputs": []
    },
    {
      "cell_type": "code",
      "source": [
        "#apply the function to convert install data into numeric\n",
        "df_ps['Installs']=df_ps['Installs'].apply(lambda x:install_to_numeric(x))\n",
        "df_ps.head(4)"
      ],
      "metadata": {
        "id": "XM3RyGIPdwp8"
      },
      "execution_count": null,
      "outputs": []
    },
    {
      "cell_type": "markdown",
      "source": [
        "**3.3.4 Dealing the Price Column**\n",
        "\n",
        "The price column must be converted to numeric data. There is a \"$' in the price data. We need to eliminate it."
      ],
      "metadata": {
        "id": "19Lwrzcnd2Es"
      }
    },
    {
      "cell_type": "code",
      "source": [
        "def price_to_numeric(price):\n",
        "  '''\n",
        "  This function is to convert price column datatype into numeric\n",
        "  '''\n",
        "  if '$' in price:\n",
        "    new_price=float(price.replace('$',''))\n",
        "    return new_price\n",
        "  else:\n",
        "    return float(price)"
      ],
      "metadata": {
        "id": "uT4qsObCeDaf"
      },
      "execution_count": null,
      "outputs": []
    },
    {
      "cell_type": "code",
      "source": [
        "# apply the function into  price column\n",
        "df_ps['Price']=df_ps['Price'].apply(lambda x:price_to_numeric(x))\n",
        "#check the price column of the data which have non zero price\n",
        "df_ps[df_ps['Price']!=0].head(4)"
      ],
      "metadata": {
        "id": "sVupcN2KeIkH"
      },
      "execution_count": null,
      "outputs": []
    },
    {
      "cell_type": "markdown",
      "source": [
        "**3.3.5 Dealing with Last Updated Column**\n",
        "\n",
        "\n",
        "\n",
        "\n",
        "Last Updated column need to be convert into datetime format"
      ],
      "metadata": {
        "id": "4Kj1SXybedgG"
      }
    },
    {
      "cell_type": "code",
      "source": [
        "# Pandas to_datetime() function applied to the values in the last updated column\n",
        "df_ps['Last Updated']=pd.to_datetime(df_ps['Last Updated'])\n",
        "#check the dataframe after converting to datetime\n",
        "df_ps.head(4)"
      ],
      "metadata": {
        "id": "omyf0IYKelSb"
      },
      "execution_count": null,
      "outputs": []
    },
    {
      "cell_type": "markdown",
      "source": [
        "#### User Review Data load and Data preparation for Analysis"
      ],
      "metadata": {
        "id": "2KRHARIAe11e"
      }
    },
    {
      "cell_type": "code",
      "source": [
        "#load the user review dataset\n",
        "ur_path='/content/drive/MyDrive/AlmaBetter/Data Scientist/Capstone_Project/User Reviews.csv'\n",
        "df_ur=pd.read_csv(ur_path)\n",
        "df_ur.head()"
      ],
      "metadata": {
        "id": "n8VvnN_kehCv"
      },
      "execution_count": null,
      "outputs": []
    },
    {
      "cell_type": "code",
      "source": [
        "#user review dataset information\n",
        "df_ur.info()"
      ],
      "metadata": {
        "id": "NQR3TtY9eNo8"
      },
      "execution_count": null,
      "outputs": []
    },
    {
      "cell_type": "markdown",
      "source": [
        "**User Reviews Dataset Overview**\n",
        "\n",
        "* The dataset consists of **5 columns** in total.\n",
        "* **2 columns** are **numerical**:\n",
        "\n",
        "  * `Sentiment Polarity`\n",
        "  * `Sentiment Subjectivity`\n",
        "* **3 columns** are **categorical**:\n",
        "\n",
        "  * `App`\n",
        "  * `Translated Review`\n",
        "  * `Sentiment`\n",
        "* A **significant number of null values** are present, particularly in the review-related fields, which warrants further inspection and appropriate handling during preprocessing."
      ],
      "metadata": {
        "id": "KCpobAVifcZ_"
      }
    },
    {
      "cell_type": "code",
      "source": [
        "# view the basic statistical details\n",
        "df_ur.describe()"
      ],
      "metadata": {
        "id": "FzdZFYi6gCIF"
      },
      "execution_count": null,
      "outputs": []
    },
    {
      "cell_type": "markdown",
      "source": [
        "**User Reviews Dataset Overview**\n",
        "\n",
        "The `user_reviews` DataFrame contains **64,295 rows** and **5 columns**, each serving a specific purpose:\n",
        "\n",
        "* **`App`**:\n",
        "  Indicates the name of the application. It may also contain a brief description in some cases.\n",
        "\n",
        "* **`Translated_Review`**:\n",
        "  Provides the **English translation** of the original user review submitted for the app.\n",
        "\n",
        "* **`Sentiment`**:\n",
        "  Represents the **emotional tone** of the review. Values include:\n",
        "\n",
        "  * `Positive`\n",
        "  * `Negative`\n",
        "  * `Neutral`\n",
        "\n",
        "* **`Sentiment_Polarity`**:\n",
        "  A **numerical measure** ranging from **-1 to 1**, where:\n",
        "\n",
        "  * `1` represents a strong positive sentiment\n",
        "  * `-1` represents a strong negative sentiment\n",
        "\n",
        "* **`Sentiment_Subjectivity`**:\n",
        "  Ranges from **0 to 1**, indicating how **subjective** or **factual** the review is:\n",
        "\n",
        "  * Values closer to **1** suggest a **highly subjective** review\n",
        "  * Values closer to **0** suggest a **more objective/factual** review\n",
        "\n"
      ],
      "metadata": {
        "id": "0Jm_4l4PgK3_"
      }
    },
    {
      "cell_type": "code",
      "source": [
        "#columns of the data set\n",
        "print(df_ur.columns)\n",
        "rows=df_ur.shape[0]\n",
        "cols=df_ur.shape[1]\n",
        "print(f\"The user review data set has {rows} rows and {cols} columns\")"
      ],
      "metadata": {
        "id": "Df60xZd3gr_P"
      },
      "execution_count": null,
      "outputs": []
    },
    {
      "cell_type": "markdown",
      "source": [
        "## Data Cleaning and Preparation\n"
      ],
      "metadata": {
        "id": "Dwzwk4ipgzRU"
      }
    },
    {
      "cell_type": "code",
      "source": [
        "# Understand the missing data in details\n",
        "missingdata_info(df_ur)\n"
      ],
      "metadata": {
        "id": "TzhuLDgHg0Xv"
      },
      "execution_count": null,
      "outputs": []
    },
    {
      "cell_type": "markdown",
      "source": [
        " **Missing Data Overview in User Reviews Dataset**\n",
        "\n",
        "A significant portion of the dataset contains missing values:\n",
        "\n",
        "* Approximately **42% of the entries** have missing data across several columns.\n",
        "* The **`Translated_Review`** column has **26,868 missing values**, accounting for **41.79%** of the total records.\n",
        "* The following three columns each have **26,863 missing values** (**41.78%** of the data):\n",
        "\n",
        "  * **`Sentiment`**\n",
        "  * **`Sentiment_Polarity`**\n",
        "  * **`Sentiment_Subjectivity`**\n",
        "\n",
        "This indicates that the **missing data is aligned across multiple columns**, likely due to reviews not being available or processed for certain apps.\n"
      ],
      "metadata": {
        "id": "EjcGliyhhDQL"
      }
    },
    {
      "cell_type": "code",
      "source": [
        "#find out where all the column has null value\n",
        "df_na=df_ur[df_ur['Translated_Review'].isna() & df_ur['Sentiment'].isna() & df_ur['Sentiment_Polarity'].isna() & df_ur['Sentiment_Subjectivity'].isna()]\n",
        "df_na.head()\n"
      ],
      "metadata": {
        "id": "blF0iRUwhJTV"
      },
      "execution_count": null,
      "outputs": []
    },
    {
      "cell_type": "code",
      "source": [
        "#check the length of the dataframe\n",
        "print(len(df_na))"
      ],
      "metadata": {
        "id": "PIp2nPnmhOUI"
      },
      "execution_count": null,
      "outputs": []
    },
    {
      "cell_type": "markdown",
      "source": [
        "\n",
        "\n",
        "*   26863 rows have all null valus.\n",
        "*   This rows need to be dropped\n",
        "\n"
      ],
      "metadata": {
        "id": "l8ulFmOzhSAZ"
      }
    },
    {
      "cell_type": "code",
      "source": [
        "#copy the na dataframe\n",
        "df_na_1=df_na.copy()\n",
        "#drop the rows which have all null value using isin function\n",
        "df_ur.drop(df_na_1.index, axis=0,inplace=True)\n",
        "#check the dataframe shape after drop\n",
        "df_ur.shape"
      ],
      "metadata": {
        "id": "5LtRFxjxhVHQ"
      },
      "execution_count": null,
      "outputs": []
    },
    {
      "cell_type": "code",
      "source": [
        "#check if any null vale in dataframe\n",
        "df_ur.isna().sum()"
      ],
      "metadata": {
        "id": "ltPZMmIahXuf"
      },
      "execution_count": null,
      "outputs": []
    },
    {
      "cell_type": "markdown",
      "source": [
        "Now only Translated Review has 5 null values"
      ],
      "metadata": {
        "id": "jIlnAKHUhbGt"
      }
    },
    {
      "cell_type": "code",
      "source": [
        "#check the rows which have null values of translated review\n",
        "df_ur[df_ur['Translated_Review'].isna()]"
      ],
      "metadata": {
        "id": "7oPljVOvheAN"
      },
      "execution_count": null,
      "outputs": []
    },
    {
      "cell_type": "code",
      "source": [
        "#check the unique values of translated review\n",
        "df_ur['Translated_Review'].unique()"
      ],
      "metadata": {
        "id": "MPPgWzikhhHO"
      },
      "execution_count": null,
      "outputs": []
    },
    {
      "cell_type": "code",
      "source": [
        "#drop the null values\n",
        "df_ur.dropna(inplace=True)\n",
        "df_ur.shape"
      ],
      "metadata": {
        "id": "lCXXjTk6hk46"
      },
      "execution_count": null,
      "outputs": []
    },
    {
      "cell_type": "code",
      "source": [
        "#check the last 5 rows of the dataframe after data cleaning\n",
        "df_ur.tail()"
      ],
      "metadata": {
        "id": "yrI1KQSjhnsm"
      },
      "execution_count": null,
      "outputs": []
    },
    {
      "cell_type": "markdown",
      "source": [
        "**Merge the two Dataframe**"
      ],
      "metadata": {
        "id": "xyIR1PmjhrOG"
      }
    },
    {
      "cell_type": "code",
      "source": [
        "#create a groupby of app and sentiment and form a new dataframe\n",
        "g_df=df_ur.groupby(['App','Sentiment']).size().unstack(level=1)\n",
        "g_df.reset_index( inplace=True)\n",
        "g_names=['App','Negative_Sentiment', 'Neutral_Sentiment','Positive_Sentiment']\n",
        "g_df.columns=g_names\n",
        "g_df.head()"
      ],
      "metadata": {
        "id": "riSoaBllhxKa"
      },
      "execution_count": null,
      "outputs": []
    },
    {
      "cell_type": "code",
      "source": [
        "#find any null value in new g_df\n",
        "g_df.isna().sum()"
      ],
      "metadata": {
        "id": "jxRUQXwwh127"
      },
      "execution_count": null,
      "outputs": []
    },
    {
      "cell_type": "code",
      "source": [
        "#fill the null value with zero\n",
        "g_df.fillna(0,inplace=True)"
      ],
      "metadata": {
        "id": "hOgHrEJCiL50"
      },
      "execution_count": null,
      "outputs": []
    },
    {
      "cell_type": "code",
      "source": [
        "#merge two dataframe by inner join\n",
        "merged_df=pd.merge(df_ps,g_df,on='App',how='inner')\n",
        "merged_df.head(4)"
      ],
      "metadata": {
        "id": "XGLmbuZUiOvn"
      },
      "execution_count": null,
      "outputs": []
    },
    {
      "cell_type": "code",
      "source": [
        "#find the shape of the merged dataframe\n",
        "merged_df.shape"
      ],
      "metadata": {
        "id": "4QG7vJHFiU2N"
      },
      "execution_count": null,
      "outputs": []
    },
    {
      "cell_type": "markdown",
      "source": [
        "Now we have total 3 dataframe for analysis\n"
      ],
      "metadata": {
        "id": "TScT3ynticJC"
      }
    },
    {
      "cell_type": "markdown",
      "source": [
        "### What all manipulations have you done and insights you found?"
      ],
      "metadata": {
        "id": "MSa1f5Uengrz"
      }
    },
    {
      "cell_type": "markdown",
      "source": [
        " **Data Cleaning and Preprocessing Summary**\n",
        "\n",
        "* **Dropped** null values from the `Type`, `Android Ver`, and `Current Ver` columns due to their **low percentage of missing data**.\n",
        "* **Imputed** missing values in the `Rating` column using the **median**, as it is more robust to skewness and outliers.\n",
        "* **Converted** the data types of key columns:\n",
        "\n",
        "  * `Reviews`, `Installs`, and `Price` → **Integer**\n",
        "  * `Size` → **Integer**, excluding entries labeled **\"Varies with device\"**\n",
        "  * `Last Updated` → **Datetime** format\n",
        "* **Dropped** rows with missing values in:\n",
        "\n",
        "  * `Translated_Review`\n",
        "  * `Sentiment`\n",
        "  * `Sentiment_Polarity`\n",
        "  * `Sentiment_Subjectivity`\n",
        "* **Filtered** the `user_reviews` dataset to remove duplicate app entries before merging, and formatted columns to align with the structure of the `play_store` dataset.\n",
        "* The **data pipeline** is now fully prepared, enabling effective **exploratory data analysis (EDA)** and **visualization** for drawing meaningful insights and comparisons.\n"
      ],
      "metadata": {
        "id": "LbyXE7I1olp8"
      }
    },
    {
      "cell_type": "markdown",
      "source": [
        "## ***4. Data Vizualization, Storytelling & Experimenting with charts : Understand the relationships between variables***"
      ],
      "metadata": {
        "id": "GF8Ens_Soomf"
      }
    },
    {
      "cell_type": "markdown",
      "source": [
        "#### Chart - 1"
      ],
      "metadata": {
        "id": "0wOQAZs5pc--"
      }
    },
    {
      "cell_type": "markdown",
      "source": [
        "\n",
        "###**4.1 Univariate Analysis**\n",
        "Univariate analysis is the simplest form of analyzing data. “Uni” means “one”, so in other words our data has only one variable.It’s major purpose is to describe; It takes data, summarizes that data and finds patterns in the data.\n"
      ],
      "metadata": {
        "id": "P6vKkYXahkPd"
      }
    },
    {
      "cell_type": "code",
      "source": [
        "#Visualisation of No of app based on each category\n",
        "fig,ax=plt.subplots(figsize=(18,10))\n",
        "cat_app=df_ps['Category'].value_counts()\n",
        "cat_app_vis=sns.barplot(x=cat_app.index,y=cat_app,palette=\"bright\")\n",
        "plt.xticks(rotation=60)\n",
        "plt.xlabel('Category')\n",
        "plt.ylabel('No of Apps')\n",
        "plt.show()"
      ],
      "metadata": {
        "id": "7v_ESjsspbW7"
      },
      "execution_count": null,
      "outputs": []
    },
    {
      "cell_type": "markdown",
      "source": [
        "##### 1. Why did you pick the specific chart?"
      ],
      "metadata": {
        "id": "K5QZ13OEpz2H"
      }
    },
    {
      "cell_type": "markdown",
      "source": [
        "The category column contains categorical data and has 33 unique values. Bar plots are used here to compare the frequency or count of the categorical data. So Bar Plot has chosen."
      ],
      "metadata": {
        "id": "XESiWehPqBRc"
      }
    },
    {
      "cell_type": "markdown",
      "source": [
        "##### 2. What is/are the insight(s) found from the chart?"
      ],
      "metadata": {
        "id": "lQ7QKXXCp7Bj"
      }
    },
    {
      "cell_type": "markdown",
      "source": [
        "From this plot, we can get the most and least popular categories of apps in the Play Store. We can see the Family category of the app has the highest number of apps, and it is above 1750. The beauty category has the lowest presence in the Play Store, and it is below 150."
      ],
      "metadata": {
        "id": "C_j1G7yiqdRP"
      }
    },
    {
      "cell_type": "markdown",
      "source": [
        "##### 3. Will the gained insights help creating a positive business impact?\n",
        "Are there any insights that lead to negative growth? Justify with specific reason."
      ],
      "metadata": {
        "id": "448CDAPjqfQr"
      }
    },
    {
      "cell_type": "markdown",
      "source": [
        "This visualisation will help to understand the composition of each category of app. Family, Games, and Tools have the highest compettion, while parenting, comics, and beauty have the lowest."
      ],
      "metadata": {
        "id": "3cspy4FjqxJW"
      }
    },
    {
      "cell_type": "markdown",
      "source": [
        "#### Chart - 2"
      ],
      "metadata": {
        "id": "KSlN3yHqYklG"
      }
    },
    {
      "cell_type": "markdown",
      "source": [
        "###4.1.2 **Analysis of Reviews and Installs Columns**\n",
        "\n",
        "\n",
        "\n",
        "\n"
      ],
      "metadata": {
        "id": "zssCDg7Wjn_I"
      }
    },
    {
      "cell_type": "code",
      "source": [
        "#statistics describe data of reviews and installs\n",
        "df_ps[['Reviews','Installs']].describe()\n"
      ],
      "metadata": {
        "id": "7hFIfhTrj2zK"
      },
      "execution_count": null,
      "outputs": []
    },
    {
      "cell_type": "markdown",
      "source": [
        "As Installs and Reviews columns are widely spread, it would be wise to put that on a logarithmic scale,but there is 0 in a few columns, so 1 will add to them to make them finite, and it would have about zero impact on analysis."
      ],
      "metadata": {
        "id": "_7dCdAW3jtDT"
      }
    },
    {
      "cell_type": "code",
      "source": [
        "#visualisiation of Reviews and Installs distribution by histplot\n",
        "df_ps['Reviews']=df_ps['Reviews'].apply(lambda x:x+1)\n",
        "df_ps['Installs']=df_ps['Installs'].apply(lambda x:x+1)\n",
        "#take the log value for high variance\n",
        "Reviews=np.log10(df_ps['Reviews'])\n",
        "Installs=np.log10(df_ps['Installs'])\n",
        "fig,ax=plt.subplots(1,2,figsize=(15,6))\n",
        "sns.boxplot(x=Reviews,data=df_ps,color='red',ax=ax[0])\n",
        "sns.boxplot(x=Installs,data=df_ps,color='orange',ax=ax[1])\n",
        "plt.show()"
      ],
      "metadata": {
        "id": "cyPZNwKpj-vy"
      },
      "execution_count": null,
      "outputs": []
    },
    {
      "cell_type": "markdown",
      "source": [
        "##### 1. Why did you pick the specific chart?"
      ],
      "metadata": {
        "id": "t6dVpIINYklI"
      }
    },
    {
      "cell_type": "markdown",
      "source": [
        "A box plot uses boxes and lines to depict the distributions of one or more groups of numeric data.*italicized text*"
      ],
      "metadata": {
        "id": "5aaW0BYyYklI"
      }
    },
    {
      "cell_type": "markdown",
      "source": [
        "##### 2. What is/are the insight(s) found from the chart?"
      ],
      "metadata": {
        "id": "ijmpgYnKYklI"
      }
    },
    {
      "cell_type": "markdown",
      "source": [
        "1.    Most of apps has 250 to 30k reviews and 1000 to 1000000 no of installation\n",
        "2.   Most of apps has  1000 to 1000000 no of installation\n",
        "\n",
        "3.   Median value of Reviews are 969\n",
        "\n",
        "4.   Median value of installation is 10000\n",
        "\n",
        "\n",
        "\n"
      ],
      "metadata": {
        "id": "PSx9atu2YklI"
      }
    },
    {
      "cell_type": "markdown",
      "source": [
        "##### 3. Will the gained insights help creating a positive business impact?\n",
        "Are there any insights that lead to negative growth? Justify with specific reason."
      ],
      "metadata": {
        "id": "-JiQyfWJYklI"
      }
    },
    {
      "cell_type": "markdown",
      "source": [
        "These data help to understand the relevance of the apps to customers. If the number of reviews for the app is above 30,000 and the number of installs is above 10,000,000, then the app is popular with users."
      ],
      "metadata": {
        "id": "BcBbebzrYklV"
      }
    },
    {
      "cell_type": "markdown",
      "source": [
        "#### Chart - 3"
      ],
      "metadata": {
        "id": "EM7whBJCYoAo"
      }
    },
    {
      "cell_type": "markdown",
      "source": [
        "###4.1.3 **Analysis of Type and Content Rating Column**"
      ],
      "metadata": {
        "id": "YiAXv0h6mVaI"
      }
    },
    {
      "cell_type": "code",
      "source": [
        "#pie chart visualisation of type and content rating\n",
        "fig,ax=plt.subplots(1,2,figsize=(12,7))\n",
        "ax[0].pie(x=df_ps['Type'].value_counts(),labels=df_ps['Type'].value_counts().index,explode=[0.2,0],autopct='%1.0f%%')\n",
        "ax[0].title.set_text('Type')\n",
        "ax[1].pie(x=df_ps['Content Rating'].value_counts(),labels=df_ps['Content Rating'].value_counts().index,explode=[0,0,0,0,0,1.4],autopct='%1.2f%%')\n",
        "ax[1].title.set_text('Rating')\n",
        "plt.show()"
      ],
      "metadata": {
        "id": "t6GMdE67YoAp"
      },
      "execution_count": null,
      "outputs": []
    },
    {
      "cell_type": "markdown",
      "source": [
        "##### 1. Why did you pick the specific chart?"
      ],
      "metadata": {
        "id": "fge-S5ZAYoAp"
      }
    },
    {
      "cell_type": "markdown",
      "source": [
        "Type and Content Rating are categorical data and have 2 and 6 unique values, respectively. So a pie chart is an appropriate way to understand them."
      ],
      "metadata": {
        "id": "5dBItgRVYoAp"
      }
    },
    {
      "cell_type": "markdown",
      "source": [
        "##### 2. What is/are the insight(s) found from the chart?"
      ],
      "metadata": {
        "id": "85gYPyotYoAp"
      }
    },
    {
      "cell_type": "markdown",
      "source": [
        "1.   Most of the apps are free(92%)\n",
        "\n",
        "2.   Most app the content rating for everyone(81.8%)\n",
        "\n",
        "3.  Very few app has been restricted for 18+ ages and unrated\n",
        "\n"
      ],
      "metadata": {
        "id": "4jstXR6OYoAp"
      }
    },
    {
      "cell_type": "markdown",
      "source": [
        "##### 3. Will the gained insights help creating a positive business impact?\n",
        "Are there any insights that lead to negative growth? Justify with specific reason."
      ],
      "metadata": {
        "id": "RoGjAbkUYoAp"
      }
    },
    {
      "cell_type": "markdown",
      "source": [
        "For developing a new app, the developer should focus on making the app free and consider the age group of everyone."
      ],
      "metadata": {
        "id": "zfJ8IqMcYoAp"
      }
    },
    {
      "cell_type": "markdown",
      "source": [
        "#### Chart - 4"
      ],
      "metadata": {
        "id": "4Of9eVA-YrdM"
      }
    },
    {
      "cell_type": "markdown",
      "source": [
        "###4.1.4  **Analysis of  Price Column**"
      ],
      "metadata": {
        "id": "QS6NLuObmtPQ"
      }
    },
    {
      "cell_type": "markdown",
      "source": [
        "free type app has 0 price,so  dataframe need to be filterd before analysis"
      ],
      "metadata": {
        "id": "lMwi_becmww-"
      }
    },
    {
      "cell_type": "code",
      "source": [
        "import matplotlib.pyplot as plt\n",
        "import seaborn as sns\n",
        "\n",
        "# Filter for paid apps\n",
        "df_price = df_ps[df_ps['Type'] == 'Paid']\n",
        "\n",
        "# Display statistical description\n",
        "print(df_price['Price'].describe())"
      ],
      "metadata": {
        "id": "irlUoxc8YrdO"
      },
      "execution_count": null,
      "outputs": []
    },
    {
      "cell_type": "code",
      "source": [
        "# Visualize the price distribution\n",
        "fig, ax = plt.subplots(1, 1, figsize=(10, 5))\n",
        "sns.violinplot(x='Price', data=df_price, color='red', ax=ax)\n",
        "plt.title('Price Distribution of Paid Apps')\n",
        "plt.show()"
      ],
      "metadata": {
        "id": "gXTVwgxwm3Kv"
      },
      "execution_count": null,
      "outputs": []
    },
    {
      "cell_type": "markdown",
      "source": [
        "##### 1. Why did you pick the specific chart?"
      ],
      "metadata": {
        "id": "iky9q4vBYrdO"
      }
    },
    {
      "cell_type": "markdown",
      "source": [
        "Price is numerical data, and violinplot is an appropriate approach to visualise the spread of the data."
      ],
      "metadata": {
        "id": "aJRCwT6DYrdO"
      }
    },
    {
      "cell_type": "markdown",
      "source": [
        "##### 2. What is/are the insight(s) found from the chart?"
      ],
      "metadata": {
        "id": "F6T5p64dYrdO"
      }
    },
    {
      "cell_type": "markdown",
      "source": [
        "Most of the apps prices are below 5 dollars. Very few apps have a high price, near $400."
      ],
      "metadata": {
        "id": "Xx8WAJvtYrdO"
      }
    },
    {
      "cell_type": "markdown",
      "source": [
        "##### 3. Will the gained insights help creating a positive business impact?\n",
        "Are there any insights that lead to negative growth? Justify with specific reason."
      ],
      "metadata": {
        "id": "y-Ehk30pYrdP"
      }
    },
    {
      "cell_type": "markdown",
      "source": [
        "If developers want to launch a new paid app, then the price should be below $5."
      ],
      "metadata": {
        "id": "jLNxxz7MYrdP"
      }
    },
    {
      "cell_type": "markdown",
      "source": [
        "#### Chart - 5"
      ],
      "metadata": {
        "id": "bamQiAODYuh1"
      }
    },
    {
      "cell_type": "markdown",
      "source": [
        "###4.1.5  **Analysis of  Size Column**"
      ],
      "metadata": {
        "id": "JBxI6NU5nM-7"
      }
    },
    {
      "cell_type": "markdown",
      "source": [
        "We can see there are two category of size one is variable size and other is fixed size"
      ],
      "metadata": {
        "id": "NrpmlIzknR6c"
      }
    },
    {
      "cell_type": "code",
      "source": [
        "#find the distribution of fixed size and variable size\n",
        "var_count=len(df_ps[df_ps['Size']=='Varies with device'])\n",
        "var_per=round((var_count/len(df_ps))*100,2)\n",
        "fix_per=100-var_per\n",
        "print(f\"In the dataset {var_per} percentage has variable size and {fix_per} percentage has fixed size\")"
      ],
      "metadata": {
        "id": "TIJwrbroYuh3"
      },
      "execution_count": null,
      "outputs": []
    },
    {
      "cell_type": "code",
      "source": [
        "#statistical analysis of size of fix sized app\n",
        "#filter the fix sized apps\n",
        "df_fix=df_ps[df_ps['Size']!='Varies with device']\n",
        "df_1=df_fix.copy()\n",
        "#convert it into numerical\n",
        "df_1['Size']=df_1['Size'].apply(lambda x:float(x))\n",
        "df_1['Size'].describe()\n"
      ],
      "metadata": {
        "id": "BGxaAGgEnL5o"
      },
      "execution_count": null,
      "outputs": []
    },
    {
      "cell_type": "code",
      "source": [
        "#visualistaion of size column\n",
        "fig,ax=plt.subplots(1,1,figsize=(10,6))\n",
        "sns.histplot(x=df_1['Size'],data=df_1,kde=True,bins=10,color='green')"
      ],
      "metadata": {
        "id": "Rx55Vckgn1Kq"
      },
      "execution_count": null,
      "outputs": []
    },
    {
      "cell_type": "markdown",
      "source": [
        "##### 1. Why did you pick the specific chart?"
      ],
      "metadata": {
        "id": "QHF8YVU7Yuh3"
      }
    },
    {
      "cell_type": "markdown",
      "source": [
        "Histogram plots are ideal for visulalize distribution of numeric data"
      ],
      "metadata": {
        "id": "dcxuIMRPYuh3"
      }
    },
    {
      "cell_type": "markdown",
      "source": [
        "##### 2. What is/are the insight(s) found from the chart?"
      ],
      "metadata": {
        "id": "GwzvFGzlYuh3"
      }
    },
    {
      "cell_type": "markdown",
      "source": [
        "This is positive skew data. App size lies between 0 and 100MB. Most of them are below 30 MB."
      ],
      "metadata": {
        "id": "uyqkiB8YYuh3"
      }
    },
    {
      "cell_type": "markdown",
      "source": [
        "##### 3. Will the gained insights help creating a positive business impact?\n",
        "Are there any insights that lead to negative growth? Justify with specific reason."
      ],
      "metadata": {
        "id": "qYpmQ266Yuh3"
      }
    },
    {
      "cell_type": "markdown",
      "source": [
        "This data does not have enough information about business impact. But the developer should try to keep the app size below 100MB."
      ],
      "metadata": {
        "id": "_WtzZ_hCYuh4"
      }
    },
    {
      "cell_type": "markdown",
      "source": [
        "#### Chart - 6"
      ],
      "metadata": {
        "id": "OH-pJp9IphqM"
      }
    },
    {
      "cell_type": "markdown",
      "source": [
        "###4.1.6 **Analysis of  Rating Column**"
      ],
      "metadata": {
        "id": "e_ePcwXZoJkP"
      }
    },
    {
      "cell_type": "markdown",
      "source": [
        "To get more clear idea about rating of the dataframe rating column can be convert into categorical data like below"
      ],
      "metadata": {
        "id": "84mSuV76oM8g"
      }
    },
    {
      "cell_type": "code",
      "source": [
        "#create a group rating function\n",
        "def app_rate(rating):\n",
        "  '''\n",
        "  This function helps to categorize the app rating\n",
        "  '''\n",
        "  if rating>=4.0:\n",
        "    return 'Top Rated'\n",
        "  elif rating>=3.0 and rating<4.0:\n",
        "    return 'Above Average'\n",
        "  elif rating>=2.0 and rating<3.0:\n",
        "    return 'Average'\n",
        "  else:\n",
        "    return 'below average'"
      ],
      "metadata": {
        "id": "kuRf4wtuphqN"
      },
      "execution_count": null,
      "outputs": []
    },
    {
      "cell_type": "code",
      "source": [
        "#create a column in the dataframe and apply the function in the column\n",
        "df_ps['Rating Group']=df_ps['Rating'].apply(lambda x:app_rate(x))\n",
        "df_ps.head(4)"
      ],
      "metadata": {
        "id": "EGISFQLUoSeF"
      },
      "execution_count": null,
      "outputs": []
    },
    {
      "cell_type": "code",
      "source": [
        "#visualize the rating group\n",
        "fig,ax=plt.subplots(1,2,figsize=(10,5))\n",
        "sns.histplot(x=df_ps['Rating'],kde=True,bins=30,ax=ax[0])\n",
        "ax[1].pie(x=df_ps['Rating Group'].value_counts(),labels=df_ps['Rating Group'].value_counts().index,autopct='%1.1f%%')\n",
        "plt.show()"
      ],
      "metadata": {
        "id": "S4M5j4XSoVD7"
      },
      "execution_count": null,
      "outputs": []
    },
    {
      "cell_type": "markdown",
      "source": [
        "##### 1. Why did you pick the specific chart?"
      ],
      "metadata": {
        "id": "bbFf2-_FphqN"
      }
    },
    {
      "cell_type": "markdown",
      "source": [
        "histogram plot is a classical tool for describing numerical data spread and pie chart is appropriate for categorical data with less than 10 unique values"
      ],
      "metadata": {
        "id": "loh7H2nzphqN"
      }
    },
    {
      "cell_type": "markdown",
      "source": [
        "##### 2. What is/are the insight(s) found from the chart?"
      ],
      "metadata": {
        "id": "_ouA3fa0phqN"
      }
    },
    {
      "cell_type": "markdown",
      "source": [
        "\n",
        "*  The majority of the apps have a rating of 4.0 to 5.0, indicating that they are top rated, and they account for 80% of the data.\n",
        "\n",
        "*   A few apps belong to the average and below average ratings.\n",
        "\n",
        "*  The median value of the rating is 4.3.\n",
        "Answer Here"
      ],
      "metadata": {
        "id": "VECbqPI7phqN"
      }
    },
    {
      "cell_type": "markdown",
      "source": [
        "##### 3. Will the gained insights help creating a positive business impact?\n",
        "Are there any insights that lead to negative growth? Justify with specific reason."
      ],
      "metadata": {
        "id": "Seke61FWphqN"
      }
    },
    {
      "cell_type": "markdown",
      "source": [
        "One of the dependent factors in the popularity of apps is rating, so achieving a top rating is one of the key factors for a successful app. As most of the apps are top-rated,if any app does not belong to the top-rated category, it loses popularity."
      ],
      "metadata": {
        "id": "DW4_bGpfphqN"
      }
    },
    {
      "cell_type": "markdown",
      "source": [
        "#### Chart - 7"
      ],
      "metadata": {
        "id": "PIIx-8_IphqN"
      }
    },
    {
      "cell_type": "markdown",
      "source": [
        "###4.1.7  Analysis of  Sentiment,Sentiment polarity and Sentiment Subjectivity"
      ],
      "metadata": {
        "id": "QILKsR6dol83"
      }
    },
    {
      "cell_type": "code",
      "source": [
        "#statistical describe of sentiment_polarity and sentiment_subjectivity\n",
        "df_ur[['Sentiment_Polarity','Sentiment_Subjectivity']].describe()"
      ],
      "metadata": {
        "id": "Cj0QP8btoob9"
      },
      "execution_count": null,
      "outputs": []
    },
    {
      "cell_type": "code",
      "source": [
        "#visualisation of sentiment and sentiment polarity and sentiment subjectivity\n",
        "fig,ax=plt.subplots(3,1,figsize=(20,15))\n",
        "ax[0].pie(x=df_ur['Sentiment'].value_counts(),labels=df_ur['Sentiment'].value_counts().index,autopct='%1.1f%%')\n",
        "ax[0].title.set_text('Sentiment Distribution')\n",
        "sns.histplot(x=df_ur['Sentiment_Polarity'],kde=True,bins=30,ax=ax[1],color='red')\n",
        "ax[1].title.set_text('Sentiment_Polarity Distribution')\n",
        "sns.histplot(x=df_ur['Sentiment_Subjectivity'],kde=True,bins=30,color='green',ax=ax[2])\n",
        "ax[2].title.set_text('Sentiment_Subjectivity Distribution')\n",
        "plt.show()"
      ],
      "metadata": {
        "id": "lqAIGUfyphqO"
      },
      "execution_count": null,
      "outputs": []
    },
    {
      "cell_type": "markdown",
      "source": [
        "##### 1. Why did you pick the specific chart?"
      ],
      "metadata": {
        "id": "t27r6nlMphqO"
      }
    },
    {
      "cell_type": "markdown",
      "source": [
        "Sentiment is categorical data, and it has only three unique values, so a pie chart is appropriate. Sentiment polarity and sentiment subjectivity are numerical data, so a histogram is a classical approach to understanding the distribution of the data."
      ],
      "metadata": {
        "id": "iv6ro40sphqO"
      }
    },
    {
      "cell_type": "markdown",
      "source": [
        "##### 2. What is/are the insight(s) found from the chart?"
      ],
      "metadata": {
        "id": "r2jJGEOYphqO"
      }
    },
    {
      "cell_type": "markdown",
      "source": [
        "*   64.1 percent of the data is positive sentiment, 22.1 percent of the data is negative sentiment, and the rest, 13 percent, is neutral.\n",
        "*   Most of the sentiment polarity lies between -0.5 and 0.75.\n",
        "*   Most of the sentiment subjectivity is between 0.2 and 0.8.\n",
        "\n",
        "\n",
        "\n",
        "\n"
      ],
      "metadata": {
        "id": "Po6ZPi4hphqO"
      }
    },
    {
      "cell_type": "markdown",
      "source": [
        "##### 3. Will the gained insights help creating a positive business impact?\n",
        "Are there any insights that lead to negative growth? Justify with specific reason."
      ],
      "metadata": {
        "id": "b0JNsNcRphqO"
      }
    },
    {
      "cell_type": "markdown",
      "source": [
        "Most of the user has given positive reviews.So if we get any negative reviews we should be concerned about it to stay relevent in the market."
      ],
      "metadata": {
        "id": "xvSq8iUTphqO"
      }
    },
    {
      "cell_type": "markdown",
      "source": [
        "#### Chart - 8"
      ],
      "metadata": {
        "id": "BZR9WyysphqO"
      }
    },
    {
      "cell_type": "markdown",
      "source": [
        "##4.2 **Bivariate and Multivariate Analysis**"
      ],
      "metadata": {
        "id": "V_PLDwUZqCh3"
      }
    },
    {
      "cell_type": "markdown",
      "source": [
        "Bi means two, and variate means variable, so here there are two variables. The analysis is related to the cause and the relationship between the two variables. There are three types of bivariate analysis.\n",
        "\n",
        "\n",
        "Multivariate analysis is required when more than two variables have to be analysed simultaneously. It is a tremendously hard task for the human brain to visualise a relationship among four variables in a graph, and thus multivariate analysis is used to study more complex sets of data."
      ],
      "metadata": {
        "id": "3sXrme3HqIHh"
      }
    },
    {
      "cell_type": "markdown",
      "source": [
        "###4.2.1 **Distribution of install column in each Category**"
      ],
      "metadata": {
        "id": "0olsbrF-qMXt"
      }
    },
    {
      "cell_type": "code",
      "source": [
        "#copy the original dataframe\n",
        "df_ps_1=df_ps.copy()\n",
        "#add 1 to each row in install column\n",
        "df_ps_1[\"Installs\"]=df_ps_1[\"Installs\"].apply(lambda x:x+1)\n",
        "#make the install column to logarithimic\n",
        "df_ps_1[\"Installs\"]=df_ps_1[\"Installs\"].apply(lambda x:np.log10(x))\n",
        "#visualize the data\n",
        "g = sns.FacetGrid(df_ps_1, col='Category', palette=\"Set1\",  col_wrap=5, height=4)\n",
        "g = (g.map(plt.hist,\"Installs\", bins=10, color='g'))\n"
      ],
      "metadata": {
        "id": "TdPTWpAVphqO"
      },
      "execution_count": null,
      "outputs": []
    },
    {
      "cell_type": "markdown",
      "source": [
        "##### 1. Why did you pick the specific chart?"
      ],
      "metadata": {
        "id": "jj7wYXLtphqO"
      }
    },
    {
      "cell_type": "markdown",
      "source": [
        "FacetGrid helps visualise the distribution of one variable as well as the relationship between multiple variables separately within subsets of your dataset using multiple panels. So for an analysis of installs for each category, facetgrid is ideal for that."
      ],
      "metadata": {
        "id": "Ob8u6rCTphqO"
      }
    },
    {
      "cell_type": "markdown",
      "source": [
        "##### 2. What is/are the insight(s) found from the chart?"
      ],
      "metadata": {
        "id": "eZrbJ2SmphqO"
      }
    },
    {
      "cell_type": "markdown",
      "source": [
        "*   All categories have widely spread installed data, whether they have a large number of apps or a small number of apps.\n",
        "\n",
        "*  Lower and higher numbers of installs are less frequent, and midsize numbers of installs are most frequent in tools,photography,personalization, games,productivity, communication, and personalization.\n",
        "\n",
        "\n",
        "*   Arts and Design,Beauty,Comics,Education,Entertainment,House and Home,Libraries and Demo, Parenting, and Weather categories have a lower number of installations.\n",
        "\n",
        "\n",
        "\n",
        "\n",
        "\n",
        "\n",
        "\n",
        "\n",
        "\n"
      ],
      "metadata": {
        "id": "mZtgC_hjphqO"
      }
    },
    {
      "cell_type": "markdown",
      "source": [
        "##### 3. Will the gained insights help creating a positive business impact?\n",
        "Are there any insights that lead to negative growth? Justify with specific reason."
      ],
      "metadata": {
        "id": "rFu4xreNphqO"
      }
    },
    {
      "cell_type": "markdown",
      "source": [
        "If the app category is Game or Family, it has a high possibility of getting a high number of installations, or if the category belongs to Parenting, Weather,Maps and navigation, it has a good possibility of getting a low number of installations."
      ],
      "metadata": {
        "id": "ey_0qi68phqO"
      }
    },
    {
      "cell_type": "markdown",
      "source": [
        "#### Chart - 9"
      ],
      "metadata": {
        "id": "YJ55k-q6phqO"
      }
    },
    {
      "cell_type": "markdown",
      "source": [
        "###4.2.2 **Size vs Rating for each Category**"
      ],
      "metadata": {
        "id": "Fzh9hOnSq1n0"
      }
    },
    {
      "cell_type": "markdown",
      "source": [
        "before visualisation app data should divided in two category variable size and fixed size.."
      ],
      "metadata": {
        "id": "5arnYOjoq4qY"
      }
    },
    {
      "cell_type": "code",
      "source": [
        "#eliminate the variable size\n",
        "df_ps_size=df_ps[df_ps['Size']!='Varies with device']\n",
        "#visualize the plot of fixed sized apps\n",
        "g = sns.FacetGrid(df_ps_size, col='Category',hue='Type', palette=\"Set1\",  col_wrap=5, height=4)\n",
        "g = (g.map(plt.scatter,\"Size\",\"Rating\",).add_legend())\n"
      ],
      "metadata": {
        "id": "B2aS4O1ophqO"
      },
      "execution_count": null,
      "outputs": []
    },
    {
      "cell_type": "code",
      "source": [
        "#Visualization of installation of app of Variable Sized App\n",
        "df_ps_var=df_ps[df_ps['Size']=='Varies with device']\n",
        "fig,ax=plt.subplots(1,1,figsize=(15,35))\n",
        "sns.barplot(data=df_ps_var,y=df_ps_var.Category,x=df_ps_var['Rating'],hue=df_ps_var['Type']);"
      ],
      "metadata": {
        "id": "HlTodLzsrCXT"
      },
      "execution_count": null,
      "outputs": []
    },
    {
      "cell_type": "markdown",
      "source": [
        "##### 1. Why did you pick the specific chart?"
      ],
      "metadata": {
        "id": "gCFgpxoyphqP"
      }
    },
    {
      "cell_type": "markdown",
      "source": [
        "FacetGrid can be drawn with up to three dimensions: row, col, and hue. The first two have obvious correspondence with the resulting array of axes; think of the hue variable as a third dimension along a depth axis, where different levels are plotted with different colours. So for size vs. rating in each category, a facet grid is appropriate.\n"
      ],
      "metadata": {
        "id": "TVxDimi2phqP"
      }
    },
    {
      "cell_type": "markdown",
      "source": [
        "##### 2. What is/are the insight(s) found from the chart?"
      ],
      "metadata": {
        "id": "OVtJsKN_phqQ"
      }
    },
    {
      "cell_type": "markdown",
      "source": [
        "\n",
        "*   Large size apps always get high ratings, but small size apps get mixed ratings for most of the categories except medical,lifestyle, tools, and family, which have mixed ratings all through size.\n",
        "\n",
        "* Paid apps are generally better rated than free apps.\n",
        "\n",
        "* For the variable size of the app rating, most apps are highly rated except for parenting. Paid parenting apps are low-rated.\n",
        "\n"
      ],
      "metadata": {
        "id": "ngGi97qjphqQ"
      }
    },
    {
      "cell_type": "markdown",
      "source": [
        "##### 3. Will the gained insights help creating a positive business impact?\n",
        "Are there any insights that lead to negative growth? Justify with specific reason."
      ],
      "metadata": {
        "id": "lssrdh5qphqQ"
      }
    },
    {
      "cell_type": "markdown",
      "source": [
        "Rating does not have much dependency on app size."
      ],
      "metadata": {
        "id": "tBpY5ekJphqQ"
      }
    },
    {
      "cell_type": "markdown",
      "source": [
        "#### Chart - 10"
      ],
      "metadata": {
        "id": "U2RJ9gkRphqQ"
      }
    },
    {
      "cell_type": "markdown",
      "source": [
        "###4.2.3 **Installation and Android Version Relation**"
      ],
      "metadata": {
        "id": "YENVzSvzrU4x"
      }
    },
    {
      "cell_type": "code",
      "source": [
        "#create a function to grouped the android column\n",
        "def min_andr(version):\n",
        "  '''\n",
        "  This function helps to categorize the android version in few unique number\n",
        "  '''\n",
        "  if version=='Varies with device':\n",
        "    return version\n",
        "  else:\n",
        "    min_ver=version[0]\n",
        "  return min_ver"
      ],
      "metadata": {
        "id": "GM7a4YP4phqQ"
      },
      "execution_count": null,
      "outputs": []
    },
    {
      "cell_type": "code",
      "source": [
        "#apply the function to anderoid column\n",
        "df_ps['Minimum Android Version']=df_ps['Android Ver'].apply(lambda x:min_andr(x))\n",
        "#create groupby data with minimum android version and Total installs\n",
        "and_ins=df_ps.groupby(['Minimum Android Version'])['Installs'].sum()\n",
        "#visualize the plot\n",
        "fig,ax=plt.subplots(1,1,figsize=(10,8))\n",
        "sns.barplot(x=and_ins.index,y=and_ins)\n",
        "\n",
        "plt.show()"
      ],
      "metadata": {
        "id": "P_cBWyGfrZzs"
      },
      "execution_count": null,
      "outputs": []
    },
    {
      "cell_type": "markdown",
      "source": [
        "##### 1. Why did you pick the specific chart?"
      ],
      "metadata": {
        "id": "1M8mcRywphqQ"
      }
    },
    {
      "cell_type": "markdown",
      "source": [
        "Bar charts are mainly used for count visualisation. So for plotting, installing count among Android versions is appropriate with Barchart."
      ],
      "metadata": {
        "id": "8agQvks0phqQ"
      }
    },
    {
      "cell_type": "markdown",
      "source": [
        "##### 2. What is/are the insight(s) found from the chart?"
      ],
      "metadata": {
        "id": "tgIPom80phqQ"
      }
    },
    {
      "cell_type": "markdown",
      "source": [
        "*  Users prefer the Android version of the app, which varies with device; besides, Android 4 is also highly popular.\n",
        "\n",
        "*   Other Android versions are not so preferred by users.\n",
        "\n"
      ],
      "metadata": {
        "id": "Qp13pnNzphqQ"
      }
    },
    {
      "cell_type": "markdown",
      "source": [
        "##### 3. Will the gained insights help creating a positive business impact?\n",
        "Are there any insights that lead to negative growth? Justify with specific reason."
      ],
      "metadata": {
        "id": "JMzcOPDDphqR"
      }
    },
    {
      "cell_type": "markdown",
      "source": [
        "While developing a new app, the app's Android version is one of its main features. For the success of the app, the developer should go with a variable device or Android 4, and other versions should be avoided."
      ],
      "metadata": {
        "id": "R4Ka1PC2phqR"
      }
    },
    {
      "cell_type": "markdown",
      "source": [
        "#### Chart - 11"
      ],
      "metadata": {
        "id": "x-EpHcCOp1ci"
      }
    },
    {
      "cell_type": "markdown",
      "source": [
        "###4.2.4 **Installs vs App size**"
      ],
      "metadata": {
        "id": "mU5LRZjurqSV"
      }
    },
    {
      "cell_type": "markdown",
      "source": [
        "For better analysis, we have to create an app-sized group."
      ],
      "metadata": {
        "id": "wduCHYgers79"
      }
    },
    {
      "cell_type": "code",
      "source": [
        "#create app_size group\n",
        "def app_size_group(size):\n",
        "  '''\n",
        "  This function is create group of appsize between 0-100MB\n",
        "  '''\n",
        "  try:\n",
        "    if size<1.0:\n",
        "      return 'Below 1MB'\n",
        "    elif size>=1.0 and size<5.0:\n",
        "      return 'Below 5MB'\n",
        "    elif size>=5.0 and size>15.0:\n",
        "      return '5-15MB'\n",
        "    elif size>=15.0 and size<30.0:\n",
        "      return '15-30MB'\n",
        "    elif size>=30.0 and size<60.0:\n",
        "      return '30-60MB'\n",
        "    elif size>=60.0 and size<100.0:\n",
        "      return '60-100MB'\n",
        "    else:\n",
        "      return 'Above 100MB'\n",
        "  except:\n",
        "    return size"
      ],
      "metadata": {
        "id": "mAQTIvtqp1cj"
      },
      "execution_count": null,
      "outputs": []
    },
    {
      "cell_type": "code",
      "source": [
        "#apply the function to the dataframe\n",
        "df_ps['appsize_category']=df_ps['Size'].apply(lambda x:app_size_group(x))\n",
        "df_ps.head()"
      ],
      "metadata": {
        "id": "dBYGgXwwrxwj"
      },
      "execution_count": null,
      "outputs": []
    },
    {
      "cell_type": "code",
      "source": [
        "#groupby the appsize_category and type with install\n",
        "appsize_cat_ins= df_ps.groupby(['appsize_category','Type'])['Installs'].sum().unstack()\n",
        "appsize_cat_ins"
      ],
      "metadata": {
        "id": "9JXP6nA8sCsQ"
      },
      "execution_count": null,
      "outputs": []
    },
    {
      "cell_type": "code",
      "source": [
        "#visualization code most installed app size\n",
        "fig,ax=plt.subplots(1,2,figsize=(20,6))\n",
        "sns.barplot(data=df_ps[df_ps['Type']=='Free'],x='appsize_category',y='Installs',hue='Rating Group',ax=ax[0],palette='icefire');\n",
        "ax[0].set_title('Size vs installs in Free App')\n",
        "sns.barplot(data=df_ps[df_ps['Type']=='Paid'],x='appsize_category',y='Installs',hue='Rating Group',ax=ax[1],palette='gnuplot');\n",
        "ax[1].set_title('Size vs installs in Paid App')"
      ],
      "metadata": {
        "id": "DUgYMkuVsE8t"
      },
      "execution_count": null,
      "outputs": []
    },
    {
      "cell_type": "markdown",
      "source": [
        "##### 1. Why did you pick the specific chart?"
      ],
      "metadata": {
        "id": "X_VqEhTip1ck"
      }
    },
    {
      "cell_type": "markdown",
      "source": [
        "The size column is a mix of categorical and numerical data. So for better understanding, it is converted into categorical data. Bar chart is appropriate for categorical and numerical visualisation."
      ],
      "metadata": {
        "id": "-vsMzt_np1ck"
      }
    },
    {
      "cell_type": "markdown",
      "source": [
        "##### 2. What is/are the insight(s) found from the chart?"
      ],
      "metadata": {
        "id": "8zGJKyg5p1ck"
      }
    },
    {
      "cell_type": "markdown",
      "source": [
        "*   Whether the app is free or paid depends on which device has the highest number of installations.\n",
        "\n",
        "* For free apps, app sizes between 5 MB and 30 MB have high installation. For paid apps, 5–15 app sizes have decent installation.\n",
        "\n",
        "*For free apps that are near about 100 MB, they has poorly rated, but paid apps that are near about 100 MB are highly rated."
      ],
      "metadata": {
        "id": "ZYdMsrqVp1ck"
      }
    },
    {
      "cell_type": "markdown",
      "source": [
        "##### 3. Will the gained insights help creating a positive business impact?\n",
        "Are there any insights that lead to negative growth? Justify with specific reason."
      ],
      "metadata": {
        "id": "PVzmfK_Ep1ck"
      }
    },
    {
      "cell_type": "markdown",
      "source": [
        "For designing the new app, the app size should be variable with the device. For fixed-size apps, the preferred app size is 5–30 MB for free and 5–15 MB for paid apps. But for large apps, it is preferred to be paid for a high rating."
      ],
      "metadata": {
        "id": "druuKYZpp1ck"
      }
    },
    {
      "cell_type": "markdown",
      "source": [
        "#### Chart - 12"
      ],
      "metadata": {
        "id": "n3dbpmDWp1ck"
      }
    },
    {
      "cell_type": "markdown",
      "source": [
        "###4.2.5 **Sentiment Polarity vs Sentiment Subjectivity**"
      ],
      "metadata": {
        "id": "Dfwt1U8nsY37"
      }
    },
    {
      "cell_type": "code",
      "source": [
        "#plot the sentiment poarity vs sentiment subjectivity\n",
        "\n",
        "g = sns.JointGrid(data=df_ur, y='Sentiment_Polarity', x='Sentiment_Subjectivity',hue='Sentiment')\n",
        "g.plot(sns.scatterplot, sns.kdeplot);"
      ],
      "metadata": {
        "id": "bwevp1tKp1ck"
      },
      "execution_count": null,
      "outputs": []
    },
    {
      "cell_type": "markdown",
      "source": [
        "##### 1. Why did you pick the specific chart?"
      ],
      "metadata": {
        "id": "ylSl6qgtp1ck"
      }
    },
    {
      "cell_type": "markdown",
      "source": [
        "Joint plots allow plotting a relationship between two variables (also known as a bivariate relationship) while simultaneously exploring the distribution of each underlying variable. So,to understand sentiment subjectivity and sentiment polarity relations, a joint plot is ideal."
      ],
      "metadata": {
        "id": "m2xqNkiQp1ck"
      }
    },
    {
      "cell_type": "markdown",
      "source": [
        "##### 2. What is/are the insight(s) found from the chart?"
      ],
      "metadata": {
        "id": "ZWILFDl5p1ck"
      }
    },
    {
      "cell_type": "markdown",
      "source": [
        "*   Lower sentiment subjectivity means lower sentiment polarity, and higher sentiment subjectivity has widely spread polarity.\n",
        "\n",
        "*   Neutral sentiment is independent of subjectivity.\n",
        "\n",
        "*   Negative sentiment polarity has a lower frequency than positive sentiment polarity.\n",
        "\n",
        "* Most of the sentiment polarity lies between -0.5 and 0.75.\n",
        "\n",
        "\n",
        "\n",
        "\n"
      ],
      "metadata": {
        "id": "x-lUsV2mp1ck"
      }
    },
    {
      "cell_type": "markdown",
      "source": [
        "##### 3. Will the gained insights help creating a positive business impact?\n",
        "Are there any insights that lead to negative growth? Justify with specific reason."
      ],
      "metadata": {
        "id": "M7G43BXep1ck"
      }
    },
    {
      "cell_type": "markdown",
      "source": [
        "Translated reviews with lower sentiment and subjectivity are useless for understanding the popularity of the app."
      ],
      "metadata": {
        "id": "5wwDJXsLp1cl"
      }
    },
    {
      "cell_type": "markdown",
      "source": [
        "#### Chart - 13"
      ],
      "metadata": {
        "id": "Ag9LCva-p1cl"
      }
    },
    {
      "cell_type": "markdown",
      "source": [
        "### **Does Sentiment Polarity has affect on Rating?**"
      ],
      "metadata": {
        "id": "2nG3VeLvsxYm"
      }
    },
    {
      "cell_type": "code",
      "source": [
        "# Step 1: Create 'Rating Group' column using your app_rate() function\n",
        "merged_df['Rating Group'] = merged_df['Rating'].apply(lambda x: app_rate(x))\n",
        "\n",
        "# Step 2: Create Sentiment Polarity column (Positive - Negative)\n",
        "merged_df['Sentiment_Polarity'] = merged_df['Positive_Sentiment'] - merged_df['Negative_Sentiment']\n",
        "\n",
        "# Optional: Drop NaNs if any (prevents plotting errors)\n",
        "merged_df = merged_df.dropna(subset=['Rating Group', 'Sentiment_Polarity'])\n",
        "\n",
        "# Step 3: Visualize sentiment polarity distribution by rating group\n",
        "sns.catplot(\n",
        "    x='Rating Group',\n",
        "    y='Sentiment_Polarity',\n",
        "    data=merged_df,\n",
        "    kind='box',\n",
        "    height=5,\n",
        "    aspect=2\n",
        ")\n",
        "plt.title('Sentiment Polarity Distribution by Rating Group')\n",
        "plt.show()\n"
      ],
      "metadata": {
        "id": "EUfxeq9-p1cl"
      },
      "execution_count": null,
      "outputs": []
    },
    {
      "cell_type": "markdown",
      "source": [
        "##### 1. Why did you pick the specific chart?"
      ],
      "metadata": {
        "id": "E6MkPsBcp1cl"
      }
    },
    {
      "cell_type": "markdown",
      "source": [
        "Catplot is ideal for categorical and numerical data visualisation. So for sentiment subjectivity and rating group analysis, a catplot is ideal."
      ],
      "metadata": {
        "id": "V22bRsFWp1cl"
      }
    },
    {
      "cell_type": "markdown",
      "source": [
        "##### 2. What is/are the insight(s) found from the chart?"
      ],
      "metadata": {
        "id": "2cELzS2fp1cl"
      }
    },
    {
      "cell_type": "markdown",
      "source": [
        "*   The top-rated group has the maximum positive sentiment polarity. Only a few outliers have negative sentiment polarity.\n",
        "\n",
        "*   The average-rated group has a negative majority of the sentiment polarity.\n",
        "*   The above-average-rated group has few negative sentiments.\n",
        "\n",
        "\n",
        "\n"
      ],
      "metadata": {
        "id": "ozQPc2_Ip1cl"
      }
    },
    {
      "cell_type": "markdown",
      "source": [
        "##### 3. Will the gained insights help creating a positive business impact?\n",
        "Are there any insights that lead to negative growth? Justify with specific reason."
      ],
      "metadata": {
        "id": "3MPXvC8up1cl"
      }
    },
    {
      "cell_type": "markdown",
      "source": [
        "Positive sentiment polarity has a tendency towards above-average and top-rated groups, and a high rating can give a high installation, and vice versa."
      ],
      "metadata": {
        "id": "GL8l1tdLp1cl"
      }
    },
    {
      "cell_type": "markdown",
      "source": [
        "###**Sentiment Subjectivity distribution of each Rating group**"
      ],
      "metadata": {
        "id": "Ylq9GVHkzg5N"
      }
    },
    {
      "cell_type": "code",
      "source": [
        "# Calculate subjectivity\n",
        "merged_df['Sentiment_Subjectivity'] = merged_df['Positive_Sentiment'] + merged_df['Negative_Sentiment']\n",
        "\n",
        "# Plot\n",
        "sns.catplot(\n",
        "    x='Rating Group',\n",
        "    y='Sentiment_Subjectivity',\n",
        "    data=merged_df,\n",
        "    kind='box',\n",
        "    height=5,\n",
        "    aspect=2\n",
        ")\n",
        "plt.title('Sentiment Subjectivity Distribution by Rating Group')\n",
        "plt.show()\n"
      ],
      "metadata": {
        "id": "IeO_S3SwzuJP"
      },
      "execution_count": null,
      "outputs": []
    },
    {
      "cell_type": "markdown",
      "source": [
        "#####  What is/are the insight(s) found from the chart?\n",
        "\n",
        "\n",
        "\n",
        "*  Most of the Sentiment Subjectivity of the top rated app  and above average app lies between 0.3 to 0.7.Outliers also present in higher and lower magnitude of subjectivity\n",
        "\n",
        "*   Most of the sentiment  subjectivity of the top-rated and above-average apps lies between 0.3 and 0.7. Outliers are also present at higher and lower magnitudes of subjectivity."
      ],
      "metadata": {
        "id": "cJCa4pGM0Ma_"
      }
    },
    {
      "cell_type": "markdown",
      "source": [
        "#### Chart - 14 - Correlation Heatmap"
      ],
      "metadata": {
        "id": "NC_X3p0fY2L0"
      }
    },
    {
      "cell_type": "markdown",
      "source": [
        "### **Corelation of playstore data**"
      ],
      "metadata": {
        "id": "9njD7KsYh3be"
      }
    },
    {
      "cell_type": "code",
      "source": [
        "# Select only numeric columns\n",
        "numeric_df = df_ps.select_dtypes(include='number')\n",
        "\n",
        "# Plot correlation heatmap\n",
        "plt.figure(figsize=(10, 8))\n",
        "sns.heatmap(numeric_df.corr(), annot=True, cmap='coolwarm', fmt=\".2f\")\n",
        "plt.title('Correlation Heatmap for Play Store Data', fontsize=12)\n",
        "plt.show()\n"
      ],
      "metadata": {
        "id": "wuLVNNY6h91E"
      },
      "execution_count": null,
      "outputs": []
    },
    {
      "cell_type": "markdown",
      "source": [
        "##### 1. Why did you pick the specific chart?"
      ],
      "metadata": {
        "id": "cMrAHT7RiXig"
      }
    },
    {
      "cell_type": "markdown",
      "source": [
        "Correlation analysis measures the statistical relationship between two different variables. The result will show how the change in one parameter would impact the other parameter. Correlation analysis is a very important concept popular in the field of predictive analytics."
      ],
      "metadata": {
        "id": "c2Szz-y0ibB2"
      }
    },
    {
      "cell_type": "markdown",
      "source": [
        "##### 2. What is/are the insight(s) found from the chart?"
      ],
      "metadata": {
        "id": "07Xq1Y9LicKx"
      }
    },
    {
      "cell_type": "markdown",
      "source": [
        "* Installs and reviews are highly positive co-related, meaning they both increase at the same time.\n",
        "\n",
        "*  Rest of the columns has low co-relation.\n",
        "\n"
      ],
      "metadata": {
        "id": "h3ygZsPHigF4"
      }
    },
    {
      "cell_type": "markdown",
      "source": [
        "##### 3. Will the gained insights help creating a positive business impact?\n",
        "Are there any insights that lead to negative growth? Justify with specific reason."
      ],
      "metadata": {
        "id": "xfefqXQNijUX"
      }
    },
    {
      "cell_type": "markdown",
      "source": [
        "We should focus on getting a high number of reviews, then we will get a high number of installations,or we have to inspire the users to provide the reviews as many times as they can."
      ],
      "metadata": {
        "id": "P1ZwJ8V0ioNs"
      }
    },
    {
      "cell_type": "markdown",
      "source": [
        "### **Corelation of merged dataframe**"
      ],
      "metadata": {
        "id": "tl_-f23UgV4T"
      }
    },
    {
      "cell_type": "code",
      "source": [
        "# Step 1: Select numeric columns only\n",
        "numeric_merged_df = merged_df.select_dtypes(include='number')\n",
        "\n",
        "# Step 2: Plot the heatmap\n",
        "plt.figure(figsize=(10, 6))\n",
        "sns.heatmap(numeric_merged_df.corr(), annot=True, cmap=\"icefire\", fmt=\".2f\")\n",
        "plt.title('Correlation Heatmap for Merged DataFrame', fontsize=12)\n",
        "plt.show()"
      ],
      "metadata": {
        "id": "xyC9zolEZNRQ"
      },
      "execution_count": null,
      "outputs": []
    },
    {
      "cell_type": "markdown",
      "source": [
        "##### 1. Why did you pick the specific chart?"
      ],
      "metadata": {
        "id": "UV0SzAkaZNRQ"
      }
    },
    {
      "cell_type": "markdown",
      "source": [
        "Correlation analysis measures the statistical relationship between merged variables. The result will show how the change in one parameter would impact the other parameter. Correlation analysis is a very important concept popular in the field of predictive analytics."
      ],
      "metadata": {
        "id": "DVPuT8LYZNRQ"
      }
    },
    {
      "cell_type": "markdown",
      "source": [
        "##### 2. What is/are the insight(s) found from the chart?"
      ],
      "metadata": {
        "id": "YPEH6qLeZNRQ"
      }
    },
    {
      "cell_type": "markdown",
      "source": [
        "\n",
        "\n",
        "*    Besides installing and reviewing sentiment polarity, positive sentiment and negative sentiment have a high correlation.\n",
        "\n",
        "\n",
        "\n",
        "\n",
        "*   Positive sentiment with neutral sentiment has medium strength of co-relation.\n",
        "\n",
        "* Mean sentiment subjectivity has medium correlation strength with rating, and mean sentiment subjectivity\n",
        "\n",
        "* Review has high correlation strength with positive sentiment.\n",
        "\n",
        "* Mean sentiment polarity and negative sentiment have negative co-relation strength.\n",
        "\n"
      ],
      "metadata": {
        "id": "bfSqtnDqZNRR"
      }
    },
    {
      "cell_type": "markdown",
      "source": [
        "#### Chart - 15 - Pair Plot"
      ],
      "metadata": {
        "id": "q29F0dvdveiT"
      }
    },
    {
      "cell_type": "markdown",
      "source": [
        "###**Pairplot of playstore data**"
      ],
      "metadata": {
        "id": "RmjlwFjHf4On"
      }
    },
    {
      "cell_type": "code",
      "source": [
        "#visuaise the pairplot data\n",
        "df_ps_nz=df_ps.copy()\n",
        "df_ps_nz['Installs']=df_ps_nz['Installs'].apply(lambda x:x+1)\n",
        "df_ps_nz['Reviews']=df_ps_nz['Reviews'].apply(lambda x:x+1)\n",
        "Rating = df_ps_nz['Rating']\n",
        "Size = df_ps_nz['Size']\n",
        "Installs = df_ps_nz['Installs']\n",
        "Reviews = df_ps_nz['Reviews']\n",
        "Type = df_ps_nz['Type']\n",
        "Price = df_ps_nz['Price']\n",
        "plt.figure(figsize=(10,10))\n",
        "pair = sns.pairplot(pd.DataFrame(list(zip(Rating, Size, np.log10(Installs), np.log10(Reviews), Price, Type)),\n",
        "                        columns=['Rating','Size', 'Installs', 'Reviews', 'Price','Type']), hue='Type')\n",
        "#pair.fig.suptitle(\"Pairwise Plot - Rating, Size, Installs, Reviews, Price\",x=0.5, y=1.0, fontsize=16)\n",
        "plt.show()"
      ],
      "metadata": {
        "id": "o58-TEIhveiU"
      },
      "execution_count": null,
      "outputs": []
    },
    {
      "cell_type": "markdown",
      "source": [
        "##### 1. Why did you pick the specific chart?"
      ],
      "metadata": {
        "id": "EXh0U9oCveiU"
      }
    },
    {
      "cell_type": "markdown",
      "source": [
        "A pair plot is a data visualisation that plots pair-wise relationships between all the variables in a dataset. This helps to better understand the relationships visually."
      ],
      "metadata": {
        "id": "eMmPjTByveiU"
      }
    },
    {
      "cell_type": "markdown",
      "source": [
        "##### 2. What is/are the insight(s) found from the chart?"
      ],
      "metadata": {
        "id": "22aHeOlLveiV"
      }
    },
    {
      "cell_type": "markdown",
      "source": [
        "*   A higher number of reviews gets a higher rating,but a highly rated app may or may not get a high number of reviews.\n",
        "\n",
        "*   A higher number of installations gets a high rating, but a highly rated app may or may not get a high number of installations.\n",
        "\n",
        "*   The price column has a very low dependency on ratings, reviews, and installs\n",
        "\n",
        "*  Review and Installation have a linear relationship.\n",
        "\n",
        "*   Paid apps do not have high numbers of reviews,and free apps have a high spread of reviews.\n",
        "\n",
        "*   Paid apps do not have a large number of installations compared to free apps.\n",
        "\n",
        "\n",
        "\n",
        "\n",
        "\n",
        ".\n",
        "\n",
        "\n",
        "\n",
        "\n",
        "\n",
        "\n",
        "\n",
        "\n",
        "\n",
        "\n",
        "\n",
        "\n",
        "\n",
        "\n",
        "\n",
        "\n",
        "\n",
        "\n",
        "\n",
        "\n",
        "\n",
        "\n",
        "\n",
        "\n",
        "\n",
        "\n",
        "\n",
        "\n",
        "\n",
        "\n",
        "\n",
        "\n",
        "\n",
        "\n",
        "\n",
        "\n",
        "\n",
        "\n",
        "\n",
        "\n",
        "\n",
        "\n",
        "\n",
        "\n",
        "\n",
        "\n",
        "\n",
        "\n",
        "\n",
        "\n",
        "\n",
        "\n",
        "\n",
        "\n",
        "\n",
        "\n",
        "\n",
        "\n",
        "\n",
        "\n",
        "\n",
        "\n",
        "\n",
        "\n",
        "\n",
        "\n",
        "\n",
        "\n",
        "\n"
      ],
      "metadata": {
        "id": "uPQ8RGwHveiV"
      }
    },
    {
      "cell_type": "markdown",
      "source": [
        "##### 3. Will the gained insights help creating a positive business impact?\n",
        "Are there any insights that lead to negative growth? Justify with specific reason.\n"
      ],
      "metadata": {
        "id": "LFkjOZobgGa2"
      }
    },
    {
      "cell_type": "markdown",
      "source": [
        "We should focus on getting a high number of reviews, then we will get a high number of installations,or we have to inspire the users to provide the reviews as many times as they can."
      ],
      "metadata": {
        "id": "jUokKiDagMm-"
      }
    },
    {
      "cell_type": "markdown",
      "source": [
        "### 4.3. **Asking and Answsering Questions**"
      ],
      "metadata": {
        "id": "1wRnwXRRi5ZS"
      }
    },
    {
      "cell_type": "markdown",
      "source": [
        "1) **Tools and Medical apps, is the average rating signifcantly different in each category?**"
      ],
      "metadata": {
        "id": "yvups2Voi_j4"
      }
    },
    {
      "cell_type": "code",
      "source": [
        "#list out the rating data of two category\n",
        "tools = list(df_ps[df_ps.Category == \"TOOLS\"].Rating)\n",
        "medical = list(df_ps[df_ps.Category == \"MEDICAL\"].Rating)\n",
        "#check if the plots are normal\n",
        "sns.kdeplot(tools)\n",
        "sns.kdeplot(medical)\n",
        "plt.title(\"Rating distributions\")\n"
      ],
      "metadata": {
        "id": "rKC7WpZTjE_U"
      },
      "execution_count": null,
      "outputs": []
    },
    {
      "cell_type": "code",
      "source": [
        "#make numpy array of the data\n",
        "tools_array = np.asarray(tools)\n",
        "medical_array = np.asarray(medical)\n",
        "#calculate the standard deviation\n",
        "print(\"Standard deviation of tools app ratings:\", tools_array.std())\n",
        "print(\"Standard deviation of medical app ratings:\", medical_array.std())\n"
      ],
      "metadata": {
        "id": "jgs0Qpc7jIX5"
      },
      "execution_count": null,
      "outputs": []
    },
    {
      "cell_type": "code",
      "source": [
        "#import statistics library to run the hypothesis test\n",
        "from scipy.stats import ttest_ind\n",
        "#confidence interval: 95%\n",
        "#setting confidence interval sets our alpha (treshold value) = 1-0.95 = 0.05\n",
        "\n",
        "#Null Hypothesis: Difference in the mean rating of Tools and Medical apps are due to a random chance\n",
        "#Alternative Hypothesis: Mean rating of Tools and Medical apps are significantly different\n",
        "\n",
        "#p-value = when it is assumed that our null hypothesis is correct, p value gives us the probability of\n",
        "#getting a sample with the results we assumed.\n",
        "\n",
        "#run the 2 sample test:\n",
        "\n",
        "_, pvalue = ttest_ind(tools, medical)\n",
        "if pvalue<=0.05:\n",
        "    print(\"Reject Null Hypothesis\")\n",
        "else:\n",
        "    print(\"Accept Null Hypothesis\")"
      ],
      "metadata": {
        "id": "xdQEM0YDjLOS"
      },
      "execution_count": null,
      "outputs": []
    },
    {
      "cell_type": "markdown",
      "source": [
        "#### 1)**Which category have most number of app and least number of app?**\n"
      ],
      "metadata": {
        "id": "NEkFhErijOhj"
      }
    },
    {
      "cell_type": "code",
      "source": [
        "#find out top 3 category\n",
        "fig,ax=plt.subplots(1,2,figsize=(12,6))\n",
        "top=df_ps['Category'].value_counts().head(3)\n",
        "sns.barplot(x=top.index,y=top,ax=ax[0])\n",
        "ax[0].set_title('Top 3 Category')\n",
        "#find out least 3 category\n",
        "low=df_ps['Category'].value_counts().tail(3)\n",
        "sns.barplot(x=low.index,y=low,ax=ax[1])\n",
        "ax[1].set_title('Least 3 Category')"
      ],
      "metadata": {
        "id": "5Anv9YRYjQ9p"
      },
      "execution_count": null,
      "outputs": []
    },
    {
      "cell_type": "markdown",
      "source": [
        "The family category of the app has the highest presence, and it has 1829 apps. Other top categories include games and tools, which have 959 and 825 apps, respectively. The beauty category has the fewest apps, with only 53. Other less popular categories include comics and parenting, which have 56 and 60 apps, respectively."
      ],
      "metadata": {
        "id": "rKFf-FwsjUP6"
      }
    },
    {
      "cell_type": "markdown",
      "source": [
        "###2)**Which category has maximum number and minimum number of installation?**"
      ],
      "metadata": {
        "id": "NNWaQD1njYVZ"
      }
    },
    {
      "cell_type": "code",
      "source": [
        "# Top 3 categories by installs\n",
        "cg_ins_max = df_ps.groupby('Category')['Installs'].sum().sort_values(ascending=False).head(3)\n",
        "\n",
        "# Bottom 3 categories by installs\n",
        "cg_ins_min = df_ps.groupby('Category')['Installs'].sum().sort_values().head(3)\n",
        "\n",
        "# Create side-by-side bar plots\n",
        "fig, ax = plt.subplots(1, 2, figsize=(12, 5))\n",
        "\n",
        "# Max installed categories\n",
        "sns.barplot(x=cg_ins_max.index, y=cg_ins_max.values, ax=ax[0], palette='Greens_r')\n",
        "ax[0].set_title('Top 3 Categories by Installs')\n",
        "ax[0].set_ylabel('Total Installs')\n",
        "ax[0].set_xlabel('Category')\n",
        "\n",
        "# Min installed categories\n",
        "sns.barplot(x=cg_ins_min.index, y=cg_ins_min.values, ax=ax[1], palette='Reds')\n",
        "ax[1].set_title('Bottom 3 Categories by Installs')\n",
        "ax[1].set_ylabel('Total Installs')\n",
        "ax[1].set_xlabel('Category')\n",
        "\n",
        "plt.tight_layout()\n",
        "plt.show()\n"
      ],
      "metadata": {
        "id": "CxIbkkh7ja0k"
      },
      "execution_count": null,
      "outputs": []
    },
    {
      "cell_type": "markdown",
      "source": [
        "Games, communication, and tools have the maximum number of installations. Events, Beauty, and Parenting have a minimum number of installations."
      ],
      "metadata": {
        "id": "4Z3zt5sxjek7"
      }
    },
    {
      "cell_type": "markdown",
      "source": [
        "###3)**Find out the most popular app**"
      ],
      "metadata": {
        "id": "Q0-A2L3mjiQS"
      }
    },
    {
      "cell_type": "markdown",
      "source": [
        "To find out the most popular app,we have to first\n",
        "\n",
        "\n",
        "1. Most number of installed apps\n",
        "\n",
        "\n",
        "2. Among the most installed apps, find which app has the most reviews.\n",
        "\n",
        "\n",
        "3. If there is a tie, then find which app has the highest rating."
      ],
      "metadata": {
        "id": "S8penZiUjk7L"
      }
    },
    {
      "cell_type": "code",
      "source": [
        "# find out the maximum installed app\n",
        "max_app=df_ps[df_ps['Installs']==df_ps.Installs.max()]\n",
        "#plot the maximum installed apps\n",
        "fig,ax=plt.subplots(figsize=(20,8))\n",
        "top_visual=sns.barplot(x=max_app.App,y=max_app.Installs)\n",
        "#rotate the xticklabels\n",
        "top_visual.set_xticklabels(top_visual.get_xticklabels(), rotation= 75, horizontalalignment='right')\n",
        "plt.show()"
      ],
      "metadata": {
        "id": "5EsB0pWPjn9Z"
      },
      "execution_count": null,
      "outputs": []
    },
    {
      "cell_type": "code",
      "source": [
        "#find out app has the maximum reviews which have maximum no of installation\n",
        "fig,ax=plt.subplots(1,1,figsize=(12,8))\n",
        "max_review=sns.barplot(x=max_app.App,y=max_app.Reviews)\n",
        "max_review.set_xticklabels(top_visual.get_xticklabels(), rotation= 75, horizontalalignment='right')\n",
        "plt.show()"
      ],
      "metadata": {
        "id": "a7X1_JeZjrF6"
      },
      "execution_count": null,
      "outputs": []
    },
    {
      "cell_type": "markdown",
      "source": [
        "**Facebook is the most popular app in the Play Store, and after Facebook, WhatsApp is the most popular app in the Play Store.**"
      ],
      "metadata": {
        "id": "RcMsq1EAjuzh"
      }
    },
    {
      "cell_type": "markdown",
      "source": [
        "\n",
        "From the univariate analysis section, we have seen that 92% of the apps in the dataset are free and 8% are paid.\n"
      ],
      "metadata": {
        "id": "3MKJ0dxbjyBm"
      }
    },
    {
      "cell_type": "markdown",
      "source": [
        "### **4)Which category has most no of paid apps?**"
      ],
      "metadata": {
        "id": "074_9Vk4j9zt"
      }
    },
    {
      "cell_type": "code",
      "source": [
        "# from a groupby by type category\n",
        "type_cat=df_ps.groupby('Category')['Type'].value_counts().unstack()\n",
        "#fill the null values with zero\n",
        "type_cat.fillna(0,inplace=True)\n",
        "#sort the category in order of paid app\n",
        "paid_cat=type_cat.sort_values(by='Paid',ascending=False).head(3)\n",
        "paid_cat\n"
      ],
      "metadata": {
        "id": "ZhwRgeWckAZX"
      },
      "execution_count": null,
      "outputs": []
    },
    {
      "cell_type": "code",
      "source": [
        "#visualise the plot\n",
        "paid_cat.plot(kind=\"bar\",figsize=(8, 5))"
      ],
      "metadata": {
        "id": "sKVU_ucrkDkS"
      },
      "execution_count": null,
      "outputs": []
    },
    {
      "cell_type": "markdown",
      "source": [
        "Family, Medical, and Game categories have the most paid apps, and the numbers are 182, 83, and 82."
      ],
      "metadata": {
        "id": "xGSi-7o4kGyk"
      }
    },
    {
      "cell_type": "markdown",
      "source": [
        "###**5)Find the top 5 paid app according to revenue.**"
      ],
      "metadata": {
        "id": "mbeE8BfHkKWd"
      }
    },
    {
      "cell_type": "code",
      "source": [
        "#separate the paid app from dataframe\n",
        "df_paid=df_ps[df_ps['Type']=='Paid']\n",
        "df_pay=df_paid.copy()\n",
        "#create a new column of reveneau\n",
        "df_pay['Reveneau']=df_pay['Installs']*df_pay['Price']\n",
        "#sort the dataframe by reveneu\n",
        "apps_=df_pay.sort_values(by='Reveneau',ascending=False).head()\n",
        "#visualise the data\n",
        "fig,ax=plt.subplots(figsize=(12,6))\n",
        "sns.barplot(x=apps_.App,y=apps_.Reveneau)\n",
        "ax.set_title('Top Reveneau app')"
      ],
      "metadata": {
        "id": "y6YJHDpTkM0b"
      },
      "execution_count": null,
      "outputs": []
    },
    {
      "cell_type": "markdown",
      "source": [
        "The top 5 earned apps are Minecraft,I am Rich,I am Rich Premium, Hitman Sniper, and Grand Theft Auto:San Andreas."
      ],
      "metadata": {
        "id": "qiF-IpPKkRqg"
      }
    },
    {
      "cell_type": "markdown",
      "source": [
        "###**6)What are the top  large size apps?also find out most popular app among them.**\n",
        "\n",
        "\n",
        "\n"
      ],
      "metadata": {
        "id": "s4PYXIHjkVcF"
      }
    },
    {
      "cell_type": "code",
      "source": [
        "#find out the largest apps\n",
        "max_size=df_1[df_1['Size']==df_1['Size'].max()]\n",
        "max_size.sort_values(by=['Installs','Reviews','Rating'],ascending=False).head()\n"
      ],
      "metadata": {
        "id": "fJiAEeG8kXw7"
      },
      "execution_count": null,
      "outputs": []
    },
    {
      "cell_type": "markdown",
      "source": [
        "Hungry Shark Evolution is the most popular large-size app; after that, Simcity Buildit and Miami Crime Simulator are the most popular apps in the dataset."
      ],
      "metadata": {
        "id": "nlU74s9Ekbg1"
      }
    },
    {
      "cell_type": "markdown",
      "source": [
        "####**7)What are the top genres of apps with the most installations?**"
      ],
      "metadata": {
        "id": "IyIByYb-ke_B"
      }
    },
    {
      "cell_type": "code",
      "source": [
        "genre_app=df_ps.groupby(['Genres'])['Installs'].sum().sort_values(ascending=False).head()\n",
        "plt.subplots(figsize=(10,5))\n",
        "sns.barplot(x=genre_app,y=genre_app.index)\n",
        "plt.ylabel('Genre')\n",
        "plt.xlabel('No of Installs')\n",
        "plt.title('barchart of top 5 genres belongs to apps');"
      ],
      "metadata": {
        "id": "VPdBosyKkiPF"
      },
      "execution_count": null,
      "outputs": []
    },
    {
      "cell_type": "markdown",
      "source": [
        "Communication,Tools,Productivity genre has most number of installation."
      ],
      "metadata": {
        "id": "y0xirJY1km8N"
      }
    },
    {
      "cell_type": "markdown",
      "source": [
        "###**8)Are there any apps which have not been updated since years ?**"
      ],
      "metadata": {
        "id": "_GAoI4_WkqU5"
      }
    },
    {
      "cell_type": "markdown",
      "source": [
        "For this, we are going to add two more columns, named Year and Month."
      ],
      "metadata": {
        "id": "LN-d9gGKkt6Z"
      }
    },
    {
      "cell_type": "code",
      "source": [
        "#For this we are going to add two more columns named Year and Month\n",
        "d = pd.DatetimeIndex(df_ps['Last Updated'])\n",
        "df_ps['year'] = d.year\n",
        "df_ps['month'] = d.month\n",
        "df_ps.head()"
      ],
      "metadata": {
        "id": "akMe6pMSkwUi"
      },
      "execution_count": null,
      "outputs": []
    },
    {
      "cell_type": "markdown",
      "source": [
        "Around 3,000 apps have not been updated in years. Maybe these apps have not been in the service."
      ],
      "metadata": {
        "id": "N7ZvXEOtkz1u"
      }
    },
    {
      "cell_type": "markdown",
      "source": [
        "### **9)Find out the most positive reviews and most negative reviews.Also find out their installation and rating.**"
      ],
      "metadata": {
        "id": "bjr3Qzock3Sv"
      }
    },
    {
      "cell_type": "markdown",
      "source": [
        "r_p=merged_df.sort_values(by='Positive_Sentiment',ascending=False).head()\n",
        "r_p"
      ],
      "metadata": {
        "id": "fEQR8PJRk6ks"
      }
    },
    {
      "cell_type": "markdown",
      "source": [
        "Helix Jump is the most positively reviewed app in the Play Store."
      ],
      "metadata": {
        "id": "sftNGMopk9xb"
      }
    },
    {
      "cell_type": "code",
      "source": [
        "r_j=merged_df.sort_values(by='Negative_Sentiment',ascending=False).head()\n",
        "r_j_new=r_j.reset_index()\n",
        "r_j_new"
      ],
      "metadata": {
        "id": "jlhHeD1olBWE"
      },
      "execution_count": null,
      "outputs": []
    },
    {
      "cell_type": "markdown",
      "source": [
        "Angry Bird Classic is the most negatively reviewed app in the Play Store."
      ],
      "metadata": {
        "id": "uToOwU5wlEiY"
      }
    },
    {
      "cell_type": "markdown",
      "source": [
        "###**10). How  sentiment polarity affect in Rating?**"
      ],
      "metadata": {
        "id": "5YMOrYzAlH8Z"
      }
    },
    {
      "cell_type": "code",
      "source": [
        "#plot the sentiment polarity\n",
        "fig,ax=plt.subplots(1,1,figsize=(8,8))\n",
        "sns.scatterplot(data=merged_df,y=merged_df['Positive_Sentiment'],x=merged_df['Negative_Sentiment'],hue=merged_df['Rating Group']);"
      ],
      "metadata": {
        "id": "xcBsRSB3lKg5"
      },
      "execution_count": null,
      "outputs": []
    },
    {
      "cell_type": "markdown",
      "source": [
        "When positive sentiment and negative sentiment are both low,, the rating is mixed (it may be high or low), but when both are high, the rating is high. When positive sentiment is high and negative sentiment is low, the rating is also high."
      ],
      "metadata": {
        "id": "dmiFwNo5lPNT"
      }
    },
    {
      "cell_type": "markdown",
      "source": [
        "###**11)Find Top 10 Costly App**"
      ],
      "metadata": {
        "id": "sHZtbSVPlT-o"
      }
    },
    {
      "cell_type": "code",
      "source": [
        "#find the paid app sorted by price\n",
        "paid_app=df_ps[df_ps['Type']=='Paid'].sort_values(by='Price',ascending=False).head(10)\n",
        "\n",
        "#visualize the apps\n",
        "fig,ax=plt.subplots(figsize=(15,8))\n",
        "app_type_visuals=sns.barplot(data=paid_app,x=paid_app['App'],y=paid_app['Installs']);\n",
        "app_type_visuals.set_xticklabels(app_type_visuals.get_xticklabels(),rotation=75);\n",
        "plt.show()"
      ],
      "metadata": {
        "id": "VpsilFEXlP-I"
      },
      "execution_count": null,
      "outputs": []
    },
    {
      "cell_type": "markdown",
      "source": [
        "The top 10 paid apps are I'm Rich: Trump Edition,I Am Rich Premium,I Am Rich Pro Plus, I am Rich, I am Rich (Most Expensive App), I Am Rich Pro, Most Expensive App (H), I am Rich (Premium), I am Rich!."
      ],
      "metadata": {
        "id": "Y602cG0dlaXt"
      }
    },
    {
      "cell_type": "markdown",
      "source": [
        "####**12) Find the top 10 games**"
      ],
      "metadata": {
        "id": "5HLpz9M8ldS6"
      }
    },
    {
      "cell_type": "code",
      "source": [
        "# Chart - 9 visualization code\n",
        "def cat_top10(category):\n",
        "  '''\n",
        "  Plot  top 10 installed app of given category\n",
        "  '''\n",
        "  df_top=df_ps[df_ps['Category']==category]\n",
        "  data=df_top[['App','Installs']].sort_values('Installs',ascending=False).head(10)\n",
        "  fig,ax=plt.subplots(figsize=(15,5))\n",
        "  #ax.set_title('Top 10 installed App ')\n",
        "  visuals=sns.barplot(x=data.App,y=data.Installs,palette='husl')\n",
        "  visuals.set_xticklabels(visuals.get_xticklabels(), rotation= 75, horizontalalignment='right')"
      ],
      "metadata": {
        "id": "pTnMRjxNlgjm"
      },
      "execution_count": null,
      "outputs": []
    },
    {
      "cell_type": "code",
      "source": [
        "cat_top10('GAME')\n"
      ],
      "metadata": {
        "id": "KHL5PLH7ljXz"
      },
      "execution_count": null,
      "outputs": []
    },
    {
      "cell_type": "markdown",
      "source": [
        "## **5. Solution to Business Objective**"
      ],
      "metadata": {
        "id": "JcMwzZxoAimU"
      }
    },
    {
      "cell_type": "markdown",
      "source": [
        "#### What do you suggest the client to achieve Business Objective ?\n",
        "Explain Briefly."
      ],
      "metadata": {
        "id": "8G2x9gOozGDZ"
      }
    },
    {
      "cell_type": "markdown",
      "source": [
        "\n",
        "\n",
        "### **Key Insights and Recommendations for App Developers**\n",
        "\n",
        "* **Pricing Strategy:**\n",
        "  Approximately **92% of apps are free**, indicating that users prefer free applications. Developers aiming for a large user base should consider releasing free versions. If opting for a paid model, it is advisable to keep the **price below \\$50** to remain competitive.\n",
        "\n",
        "* **Category Selection:**\n",
        "  Underrepresented categories such as **Events**, **Beauty**, and **Parenting** show promising potential. These categories have **fewer apps but relatively high installation numbers**, suggesting an opportunity for growth.\n",
        "\n",
        "* **App Size Optimization:**\n",
        "  App size significantly impacts installation rates. Ideally:\n",
        "\n",
        "  * Make the app size **variable with the device** when possible.\n",
        "  * If fixed, keep it between **5–15 MB** for general apps.\n",
        "  * For categories like **Games** or **Family**, larger sizes are acceptable.\n",
        "\n",
        "* **Content and Genre Preferences:**\n",
        "\n",
        "  * Preferred **content rating**: “**Everyone**”\n",
        "  * Preferred **genres**: **Communication**, **Tools**, **Photography**, and **Social** tend to attract more users.\n",
        "\n",
        "* **Android Version Compatibility:**\n",
        "  It is recommended to either:\n",
        "\n",
        "  * Set the Android version to be **compatible with the device**, or\n",
        "  * Use a **minimum requirement of Android 4.0** to maximize reach.\n",
        "\n",
        "* **Game Category Caution:**\n",
        "  Although popular, **Games** receive the **most negative reviews**. Developers should be particularly attentive to **user feedback** and focus on **game performance and stability**.\n",
        "\n",
        "* **Regular Updates & User Feedback Integration:**\n",
        "  Continuous improvement is crucial. Apps should be **regularly updated** to reflect user preferences and to resolve issues raised in reviews. This contributes to better ratings and user satisfaction.\n",
        "\n",
        "* **Target Audience Metrics:**\n",
        "  Successful apps typically have:\n",
        "\n",
        "  * A **rating above 4.0**\n",
        "  * **Installations in the range of 1 million (10 lakh)** or more\n",
        "    Developers should aim for these benchmarks when designing and marketing their apps.\n",
        "\n",
        "* **Importance of Exploratory Data Analysis (EDA):**\n",
        "  Conducting EDA prior to development provides valuable insights that can **reduce the risk of app failure**. It helps in making data-driven decisions regarding app design, features, and marketing strategies.\n"
      ],
      "metadata": {
        "id": "pASKb0qOza21"
      }
    },
    {
      "cell_type": "markdown",
      "source": [
        "# **Conclusion**"
      ],
      "metadata": {
        "id": "gCX9965dhzqZ"
      }
    },
    {
      "cell_type": "markdown",
      "source": [
        "* **Facebook** remains the most popular application on the Google Play Store in terms of installations.\n",
        "\n",
        "* **Helix Jump** holds the highest number of positive user reviews, while **Angry Birds Classic** has received the most negative feedback.\n",
        "\n",
        "* Applications that receive a significant number of both positive and negative reviews tend to maintain a high overall rating. This suggests that after receiving initial negative feedback, updates may have addressed user concerns effectively.\n",
        "\n",
        "* **I Am Rich: Premium** is one of the most installed paid applications, indicating a notable interest despite its premium pricing.\n",
        "\n",
        "* Approximately **3,000 applications** have not been updated in recent years, implying that a substantial portion may no longer be actively maintained or in service.\n",
        "\n",
        "* In most categories, **paid applications** generally receive higher user ratings compared to free ones, with the **Parenting** category being the primary exception.\n",
        "\n",
        "* While applications with **large file sizes** are relatively few, they tend to have a high number of installations, possibly reflecting the value users associate with more content-rich or feature-intensive apps.\n",
        "\n",
        "* A major challenge in this project was **data cleaning**. Around **15% of Play Store data** and **42% of user review data** were missing, necessitating careful preprocessing and validation.\n",
        "\n",
        "* Only **816 applications** have matching records in both the Play Store dataset and the user review dataset. This represents about **10% of the total apps**, but is sufficient to perform a meaningful analysis on the merged dataset.\n",
        "\n",
        "* Features such as **current version**, **last update date**, and **sentiment subjectivity** should be analyzed further to assess their impact on **ratings** and **installation numbers**.\n",
        "\n",
        "* Understanding the **evolution of an app's metrics**—including installation count, user rating, and review volume—over time can provide valuable insights into app performance and business trends.\n"
      ],
      "metadata": {
        "id": "Fjb1IsQkh3yE"
      }
    },
    {
      "cell_type": "markdown",
      "source": [
        "### ***Hurrah! You have successfully completed your EDA Capstone Project !!!***"
      ],
      "metadata": {
        "id": "gIfDvo9L0UH2"
      }
    }
  ]
}